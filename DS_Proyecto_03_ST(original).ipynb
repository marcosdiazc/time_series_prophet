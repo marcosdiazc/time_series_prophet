{
 "cells": [
  {
   "cell_type": "markdown",
   "metadata": {},
   "source": [
    "<font size=\"5\"> PROYECTO SERIES DE TIEMPO</font>"
   ]
  },
  {
   "cell_type": "markdown",
   "metadata": {},
   "source": [
    "El proyecto sera segmentado en 3 partes\n",
    "\n",
    "1 EDA o Analisis exploratorio de datos\n",
    "\n",
    "2 Optimizacion de las features y variables\n",
    "\n",
    "3 Implementacion de distintos modelos con optimizacion de hiperparametros"
   ]
  },
  {
   "cell_type": "markdown",
   "metadata": {},
   "source": [
    "Importamos las librerias iniciales"
   ]
  },
  {
   "cell_type": "code",
   "execution_count": 1,
   "metadata": {},
   "outputs": [],
   "source": [
    "import pandas as pd\n",
    "import numpy as np\n",
    "import matplotlib.pyplot as plt\n",
    "import datetime"
   ]
  },
  {
   "cell_type": "markdown",
   "metadata": {},
   "source": [
    "Cargamos los datasets y les damos un vistazo"
   ]
  },
  {
   "cell_type": "code",
   "execution_count": 2,
   "metadata": {},
   "outputs": [],
   "source": [
    "data_2019 = pd.read_csv('flujo-vehicular-2019.csv', sep =',')\n",
    "data_2018 = pd.read_csv('flujo-vehicular-2018.csv', sep =',')\n",
    "data_2017 = pd.read_csv('flujo-vehicular-2017.csv', sep =',')"
   ]
  },
  {
   "cell_type": "code",
   "execution_count": 3,
   "metadata": {},
   "outputs": [
    {
     "name": "stdout",
     "output_type": "stream",
     "text": [
      "<class 'pandas.core.frame.DataFrame'>\n",
      "RangeIndex: 812153 entries, 0 to 812152\n",
      "Data columns (total 10 columns):\n",
      " #   Column          Non-Null Count   Dtype \n",
      "---  ------          --------------   ----- \n",
      " 0   periodo         812153 non-null  int64 \n",
      " 1   fecha           812153 non-null  object\n",
      " 2   hora_inicio     812153 non-null  int64 \n",
      " 3   hora_fin        812153 non-null  int64 \n",
      " 4   dia             812153 non-null  object\n",
      " 5   estacion        812153 non-null  object\n",
      " 6   sentido         812153 non-null  object\n",
      " 7   tipo_vehiculo   812153 non-null  object\n",
      " 8   forma_pago      812153 non-null  object\n",
      " 9   cantidad_pasos  812153 non-null  int64 \n",
      "dtypes: int64(4), object(6)\n",
      "memory usage: 62.0+ MB\n"
     ]
    },
    {
     "data": {
      "text/html": [
       "<div>\n",
       "<style scoped>\n",
       "    .dataframe tbody tr th:only-of-type {\n",
       "        vertical-align: middle;\n",
       "    }\n",
       "\n",
       "    .dataframe tbody tr th {\n",
       "        vertical-align: top;\n",
       "    }\n",
       "\n",
       "    .dataframe thead th {\n",
       "        text-align: right;\n",
       "    }\n",
       "</style>\n",
       "<table border=\"1\" class=\"dataframe\">\n",
       "  <thead>\n",
       "    <tr style=\"text-align: right;\">\n",
       "      <th></th>\n",
       "      <th>periodo</th>\n",
       "      <th>fecha</th>\n",
       "      <th>hora_inicio</th>\n",
       "      <th>hora_fin</th>\n",
       "      <th>dia</th>\n",
       "      <th>estacion</th>\n",
       "      <th>sentido</th>\n",
       "      <th>tipo_vehiculo</th>\n",
       "      <th>forma_pago</th>\n",
       "      <th>cantidad_pasos</th>\n",
       "    </tr>\n",
       "  </thead>\n",
       "  <tbody>\n",
       "    <tr>\n",
       "      <th>0</th>\n",
       "      <td>2019</td>\n",
       "      <td>2019-01-01</td>\n",
       "      <td>0</td>\n",
       "      <td>1</td>\n",
       "      <td>Martes</td>\n",
       "      <td>Alberti</td>\n",
       "      <td>Centro</td>\n",
       "      <td>Liviano</td>\n",
       "      <td>NO COBRADO</td>\n",
       "      <td>22</td>\n",
       "    </tr>\n",
       "    <tr>\n",
       "      <th>1</th>\n",
       "      <td>2019</td>\n",
       "      <td>2019-01-01</td>\n",
       "      <td>0</td>\n",
       "      <td>1</td>\n",
       "      <td>Martes</td>\n",
       "      <td>Alberti</td>\n",
       "      <td>Centro</td>\n",
       "      <td>Liviano</td>\n",
       "      <td>TELEPASE</td>\n",
       "      <td>6</td>\n",
       "    </tr>\n",
       "    <tr>\n",
       "      <th>2</th>\n",
       "      <td>2019</td>\n",
       "      <td>2019-01-01</td>\n",
       "      <td>0</td>\n",
       "      <td>1</td>\n",
       "      <td>Martes</td>\n",
       "      <td>Alberti</td>\n",
       "      <td>Provincia</td>\n",
       "      <td>Liviano</td>\n",
       "      <td>NO COBRADO</td>\n",
       "      <td>53</td>\n",
       "    </tr>\n",
       "    <tr>\n",
       "      <th>3</th>\n",
       "      <td>2019</td>\n",
       "      <td>2019-01-01</td>\n",
       "      <td>0</td>\n",
       "      <td>1</td>\n",
       "      <td>Martes</td>\n",
       "      <td>Alberti</td>\n",
       "      <td>Provincia</td>\n",
       "      <td>Liviano</td>\n",
       "      <td>TELEPASE</td>\n",
       "      <td>18</td>\n",
       "    </tr>\n",
       "    <tr>\n",
       "      <th>4</th>\n",
       "      <td>2019</td>\n",
       "      <td>2019-01-01</td>\n",
       "      <td>0</td>\n",
       "      <td>1</td>\n",
       "      <td>Martes</td>\n",
       "      <td>Avellaneda</td>\n",
       "      <td>Centro</td>\n",
       "      <td>Liviano</td>\n",
       "      <td>EFECTIVO</td>\n",
       "      <td>16</td>\n",
       "    </tr>\n",
       "  </tbody>\n",
       "</table>\n",
       "</div>"
      ],
      "text/plain": [
       "   periodo       fecha  hora_inicio  hora_fin     dia    estacion    sentido  \\\n",
       "0     2019  2019-01-01            0         1  Martes     Alberti     Centro   \n",
       "1     2019  2019-01-01            0         1  Martes     Alberti     Centro   \n",
       "2     2019  2019-01-01            0         1  Martes     Alberti  Provincia   \n",
       "3     2019  2019-01-01            0         1  Martes     Alberti  Provincia   \n",
       "4     2019  2019-01-01            0         1  Martes  Avellaneda     Centro   \n",
       "\n",
       "  tipo_vehiculo  forma_pago  cantidad_pasos  \n",
       "0       Liviano  NO COBRADO              22  \n",
       "1       Liviano    TELEPASE               6  \n",
       "2       Liviano  NO COBRADO              53  \n",
       "3       Liviano    TELEPASE              18  \n",
       "4       Liviano    EFECTIVO              16  "
      ]
     },
     "execution_count": 3,
     "metadata": {},
     "output_type": "execute_result"
    }
   ],
   "source": [
    "data_2019.info()\n",
    "data_2019.head()"
   ]
  },
  {
   "cell_type": "code",
   "execution_count": 4,
   "metadata": {},
   "outputs": [
    {
     "name": "stdout",
     "output_type": "stream",
     "text": [
      "<class 'pandas.core.frame.DataFrame'>\n",
      "RangeIndex: 1372645 entries, 0 to 1372644\n",
      "Data columns (total 10 columns):\n",
      " #   Column          Non-Null Count    Dtype \n",
      "---  ------          --------------    ----- \n",
      " 0   periodo         1372645 non-null  int64 \n",
      " 1   fecha           1372645 non-null  object\n",
      " 2   hora_inicio     1372645 non-null  int64 \n",
      " 3   hora_fin        1372645 non-null  int64 \n",
      " 4   dia             1372645 non-null  object\n",
      " 5   estacion        1372645 non-null  object\n",
      " 6   sentido         1372645 non-null  object\n",
      " 7   tipo_vehiculo   1372645 non-null  object\n",
      " 8   forma_pago      1372645 non-null  object\n",
      " 9   cantidad_pasos  1372645 non-null  int64 \n",
      "dtypes: int64(4), object(6)\n",
      "memory usage: 104.7+ MB\n"
     ]
    },
    {
     "data": {
      "text/html": [
       "<div>\n",
       "<style scoped>\n",
       "    .dataframe tbody tr th:only-of-type {\n",
       "        vertical-align: middle;\n",
       "    }\n",
       "\n",
       "    .dataframe tbody tr th {\n",
       "        vertical-align: top;\n",
       "    }\n",
       "\n",
       "    .dataframe thead th {\n",
       "        text-align: right;\n",
       "    }\n",
       "</style>\n",
       "<table border=\"1\" class=\"dataframe\">\n",
       "  <thead>\n",
       "    <tr style=\"text-align: right;\">\n",
       "      <th></th>\n",
       "      <th>periodo</th>\n",
       "      <th>fecha</th>\n",
       "      <th>hora_inicio</th>\n",
       "      <th>hora_fin</th>\n",
       "      <th>dia</th>\n",
       "      <th>estacion</th>\n",
       "      <th>sentido</th>\n",
       "      <th>tipo_vehiculo</th>\n",
       "      <th>forma_pago</th>\n",
       "      <th>cantidad_pasos</th>\n",
       "    </tr>\n",
       "  </thead>\n",
       "  <tbody>\n",
       "    <tr>\n",
       "      <th>0</th>\n",
       "      <td>2017</td>\n",
       "      <td>2017-01-01</td>\n",
       "      <td>0</td>\n",
       "      <td>1</td>\n",
       "      <td>Domingo</td>\n",
       "      <td>Alberdi</td>\n",
       "      <td>Centro</td>\n",
       "      <td>Liviano</td>\n",
       "      <td>NO COBRADO</td>\n",
       "      <td>25</td>\n",
       "    </tr>\n",
       "    <tr>\n",
       "      <th>1</th>\n",
       "      <td>2017</td>\n",
       "      <td>2017-01-01</td>\n",
       "      <td>0</td>\n",
       "      <td>1</td>\n",
       "      <td>Domingo</td>\n",
       "      <td>Alberdi</td>\n",
       "      <td>Centro</td>\n",
       "      <td>Liviano</td>\n",
       "      <td>TELEPASE</td>\n",
       "      <td>7</td>\n",
       "    </tr>\n",
       "    <tr>\n",
       "      <th>2</th>\n",
       "      <td>2017</td>\n",
       "      <td>2017-01-01</td>\n",
       "      <td>1</td>\n",
       "      <td>2</td>\n",
       "      <td>Domingo</td>\n",
       "      <td>Alberdi</td>\n",
       "      <td>Centro</td>\n",
       "      <td>Liviano</td>\n",
       "      <td>NO COBRADO</td>\n",
       "      <td>5</td>\n",
       "    </tr>\n",
       "    <tr>\n",
       "      <th>3</th>\n",
       "      <td>2017</td>\n",
       "      <td>2017-01-01</td>\n",
       "      <td>1</td>\n",
       "      <td>2</td>\n",
       "      <td>Domingo</td>\n",
       "      <td>Alberdi</td>\n",
       "      <td>Centro</td>\n",
       "      <td>Liviano</td>\n",
       "      <td>EFECTIVO</td>\n",
       "      <td>2</td>\n",
       "    </tr>\n",
       "    <tr>\n",
       "      <th>4</th>\n",
       "      <td>2017</td>\n",
       "      <td>2017-01-01</td>\n",
       "      <td>1</td>\n",
       "      <td>2</td>\n",
       "      <td>Domingo</td>\n",
       "      <td>Alberdi</td>\n",
       "      <td>Centro</td>\n",
       "      <td>Liviano</td>\n",
       "      <td>EFECTIVO</td>\n",
       "      <td>94</td>\n",
       "    </tr>\n",
       "  </tbody>\n",
       "</table>\n",
       "</div>"
      ],
      "text/plain": [
       "   periodo       fecha  hora_inicio  hora_fin      dia estacion sentido  \\\n",
       "0     2017  2017-01-01            0         1  Domingo  Alberdi  Centro   \n",
       "1     2017  2017-01-01            0         1  Domingo  Alberdi  Centro   \n",
       "2     2017  2017-01-01            1         2  Domingo  Alberdi  Centro   \n",
       "3     2017  2017-01-01            1         2  Domingo  Alberdi  Centro   \n",
       "4     2017  2017-01-01            1         2  Domingo  Alberdi  Centro   \n",
       "\n",
       "  tipo_vehiculo  forma_pago  cantidad_pasos  \n",
       "0       Liviano  NO COBRADO              25  \n",
       "1       Liviano    TELEPASE               7  \n",
       "2       Liviano  NO COBRADO               5  \n",
       "3       Liviano    EFECTIVO               2  \n",
       "4       Liviano    EFECTIVO              94  "
      ]
     },
     "execution_count": 4,
     "metadata": {},
     "output_type": "execute_result"
    }
   ],
   "source": [
    "data_2017.info()\n",
    "data_2017.head()"
   ]
  },
  {
   "cell_type": "markdown",
   "metadata": {},
   "source": [
    "\n",
    "Vamos a estar trabajando con la estación **Illia** y la forma de pago **Efectivo**\n",
    "​\n"
   ]
  },
  {
   "cell_type": "code",
   "execution_count": 5,
   "metadata": {},
   "outputs": [
    {
     "data": {
      "text/html": [
       "<div>\n",
       "<style scoped>\n",
       "    .dataframe tbody tr th:only-of-type {\n",
       "        vertical-align: middle;\n",
       "    }\n",
       "\n",
       "    .dataframe tbody tr th {\n",
       "        vertical-align: top;\n",
       "    }\n",
       "\n",
       "    .dataframe thead th {\n",
       "        text-align: right;\n",
       "    }\n",
       "</style>\n",
       "<table border=\"1\" class=\"dataframe\">\n",
       "  <thead>\n",
       "    <tr style=\"text-align: right;\">\n",
       "      <th></th>\n",
       "      <th>fecha</th>\n",
       "      <th>hora_fin</th>\n",
       "      <th>dia</th>\n",
       "      <th>sentido</th>\n",
       "      <th>tipo_vehiculo</th>\n",
       "      <th>cantidad_pasos</th>\n",
       "    </tr>\n",
       "  </thead>\n",
       "  <tbody>\n",
       "    <tr>\n",
       "      <th>80</th>\n",
       "      <td>2019-01-01</td>\n",
       "      <td>2</td>\n",
       "      <td>Martes</td>\n",
       "      <td>Centro</td>\n",
       "      <td>Liviano</td>\n",
       "      <td>537</td>\n",
       "    </tr>\n",
       "    <tr>\n",
       "      <th>86</th>\n",
       "      <td>2019-01-01</td>\n",
       "      <td>2</td>\n",
       "      <td>Martes</td>\n",
       "      <td>Centro</td>\n",
       "      <td>Pesado</td>\n",
       "      <td>1</td>\n",
       "    </tr>\n",
       "    <tr>\n",
       "      <th>88</th>\n",
       "      <td>2019-01-01</td>\n",
       "      <td>2</td>\n",
       "      <td>Martes</td>\n",
       "      <td>Provincia</td>\n",
       "      <td>Liviano</td>\n",
       "      <td>443</td>\n",
       "    </tr>\n",
       "    <tr>\n",
       "      <th>94</th>\n",
       "      <td>2019-01-01</td>\n",
       "      <td>2</td>\n",
       "      <td>Martes</td>\n",
       "      <td>Provincia</td>\n",
       "      <td>Pesado</td>\n",
       "      <td>1</td>\n",
       "    </tr>\n",
       "    <tr>\n",
       "      <th>149</th>\n",
       "      <td>2019-01-01</td>\n",
       "      <td>3</td>\n",
       "      <td>Martes</td>\n",
       "      <td>Centro</td>\n",
       "      <td>Liviano</td>\n",
       "      <td>769</td>\n",
       "    </tr>\n",
       "  </tbody>\n",
       "</table>\n",
       "</div>"
      ],
      "text/plain": [
       "          fecha  hora_fin     dia    sentido tipo_vehiculo  cantidad_pasos\n",
       "80   2019-01-01         2  Martes     Centro       Liviano             537\n",
       "86   2019-01-01         2  Martes     Centro        Pesado               1\n",
       "88   2019-01-01         2  Martes  Provincia       Liviano             443\n",
       "94   2019-01-01         2  Martes  Provincia        Pesado               1\n",
       "149  2019-01-01         3  Martes     Centro       Liviano             769"
      ]
     },
     "execution_count": 5,
     "metadata": {},
     "output_type": "execute_result"
    }
   ],
   "source": [
    "#Unimos los 3 datasets, podemos hacerlo asi directamente ya que tienen las mismas columnas\n",
    "dataset = pd.concat([data_2019, data_2018, data_2017])\n",
    "\n",
    "#Nos quedamos solamente con la estación Illia y la forma de pago Efectivo\n",
    "mask = np.logical_and(dataset.estacion=='Illia', dataset.forma_pago == 'EFECTIVO')\n",
    "dataset = dataset[mask]\n",
    "\n",
    "#Quitamos las columnas que no vamos a utilizar\n",
    "dataset.drop(columns = ['periodo','hora_inicio','forma_pago', 'estacion'], inplace = True)\n",
    "\n",
    "dataset.head()"
   ]
  },
  {
   "cell_type": "code",
   "execution_count": 6,
   "metadata": {},
   "outputs": [
    {
     "data": {
      "text/html": [
       "<div>\n",
       "<style scoped>\n",
       "    .dataframe tbody tr th:only-of-type {\n",
       "        vertical-align: middle;\n",
       "    }\n",
       "\n",
       "    .dataframe tbody tr th {\n",
       "        vertical-align: top;\n",
       "    }\n",
       "\n",
       "    .dataframe thead th {\n",
       "        text-align: right;\n",
       "    }\n",
       "</style>\n",
       "<table border=\"1\" class=\"dataframe\">\n",
       "  <thead>\n",
       "    <tr style=\"text-align: right;\">\n",
       "      <th></th>\n",
       "      <th>dia</th>\n",
       "      <th>sentido</th>\n",
       "      <th>tipo_vehiculo</th>\n",
       "      <th>cantidad_pasos</th>\n",
       "      <th>fecha2</th>\n",
       "    </tr>\n",
       "  </thead>\n",
       "  <tbody>\n",
       "    <tr>\n",
       "      <th>80</th>\n",
       "      <td>Martes</td>\n",
       "      <td>Centro</td>\n",
       "      <td>Liviano</td>\n",
       "      <td>537</td>\n",
       "      <td>2019-01-01 02:00:00</td>\n",
       "    </tr>\n",
       "    <tr>\n",
       "      <th>86</th>\n",
       "      <td>Martes</td>\n",
       "      <td>Centro</td>\n",
       "      <td>Pesado</td>\n",
       "      <td>1</td>\n",
       "      <td>2019-01-01 02:00:00</td>\n",
       "    </tr>\n",
       "    <tr>\n",
       "      <th>88</th>\n",
       "      <td>Martes</td>\n",
       "      <td>Provincia</td>\n",
       "      <td>Liviano</td>\n",
       "      <td>443</td>\n",
       "      <td>2019-01-01 02:00:00</td>\n",
       "    </tr>\n",
       "    <tr>\n",
       "      <th>94</th>\n",
       "      <td>Martes</td>\n",
       "      <td>Provincia</td>\n",
       "      <td>Pesado</td>\n",
       "      <td>1</td>\n",
       "      <td>2019-01-01 02:00:00</td>\n",
       "    </tr>\n",
       "    <tr>\n",
       "      <th>149</th>\n",
       "      <td>Martes</td>\n",
       "      <td>Centro</td>\n",
       "      <td>Liviano</td>\n",
       "      <td>769</td>\n",
       "      <td>2019-01-01 03:00:00</td>\n",
       "    </tr>\n",
       "  </tbody>\n",
       "</table>\n",
       "</div>"
      ],
      "text/plain": [
       "        dia    sentido tipo_vehiculo  cantidad_pasos              fecha2\n",
       "80   Martes     Centro       Liviano             537 2019-01-01 02:00:00\n",
       "86   Martes     Centro        Pesado               1 2019-01-01 02:00:00\n",
       "88   Martes  Provincia       Liviano             443 2019-01-01 02:00:00\n",
       "94   Martes  Provincia        Pesado               1 2019-01-01 02:00:00\n",
       "149  Martes     Centro       Liviano             769 2019-01-01 03:00:00"
      ]
     },
     "execution_count": 6,
     "metadata": {},
     "output_type": "execute_result"
    }
   ],
   "source": [
    "#Pasamos la columna fecha a formato datetime, y le unimos la hora_fin como hora\n",
    "dataset['fecha2'] = pd.to_datetime(dataset.fecha) + pd.to_timedelta(dataset.hora_fin, unit = 'h')\n",
    "\n",
    "#Quitamos las columnas fecha y hora_fin ya que las incluimos en el campo fecha2\n",
    "dataset.drop(columns=['fecha','hora_fin'], inplace = True)\n",
    "\n",
    "dataset.head()"
   ]
  },
  {
   "cell_type": "code",
   "execution_count": 7,
   "metadata": {},
   "outputs": [
    {
     "data": {
      "text/html": [
       "<div>\n",
       "<style scoped>\n",
       "    .dataframe tbody tr th:only-of-type {\n",
       "        vertical-align: middle;\n",
       "    }\n",
       "\n",
       "    .dataframe tbody tr th {\n",
       "        vertical-align: top;\n",
       "    }\n",
       "\n",
       "    .dataframe thead th {\n",
       "        text-align: right;\n",
       "    }\n",
       "</style>\n",
       "<table border=\"1\" class=\"dataframe\">\n",
       "  <thead>\n",
       "    <tr style=\"text-align: right;\">\n",
       "      <th></th>\n",
       "      <th>dia</th>\n",
       "      <th>sentido</th>\n",
       "      <th>tipo_vehiculo</th>\n",
       "      <th>cantidad_pasos</th>\n",
       "      <th>fecha</th>\n",
       "    </tr>\n",
       "  </thead>\n",
       "  <tbody>\n",
       "    <tr>\n",
       "      <th>80</th>\n",
       "      <td>Martes</td>\n",
       "      <td>Centro</td>\n",
       "      <td>Liviano</td>\n",
       "      <td>537</td>\n",
       "      <td>2019-01-01 02:00:00</td>\n",
       "    </tr>\n",
       "    <tr>\n",
       "      <th>86</th>\n",
       "      <td>Martes</td>\n",
       "      <td>Centro</td>\n",
       "      <td>Pesado</td>\n",
       "      <td>1</td>\n",
       "      <td>2019-01-01 02:00:00</td>\n",
       "    </tr>\n",
       "    <tr>\n",
       "      <th>88</th>\n",
       "      <td>Martes</td>\n",
       "      <td>Provincia</td>\n",
       "      <td>Liviano</td>\n",
       "      <td>443</td>\n",
       "      <td>2019-01-01 02:00:00</td>\n",
       "    </tr>\n",
       "    <tr>\n",
       "      <th>94</th>\n",
       "      <td>Martes</td>\n",
       "      <td>Provincia</td>\n",
       "      <td>Pesado</td>\n",
       "      <td>1</td>\n",
       "      <td>2019-01-01 02:00:00</td>\n",
       "    </tr>\n",
       "    <tr>\n",
       "      <th>149</th>\n",
       "      <td>Martes</td>\n",
       "      <td>Centro</td>\n",
       "      <td>Liviano</td>\n",
       "      <td>769</td>\n",
       "      <td>2019-01-01 03:00:00</td>\n",
       "    </tr>\n",
       "  </tbody>\n",
       "</table>\n",
       "</div>"
      ],
      "text/plain": [
       "        dia    sentido tipo_vehiculo  cantidad_pasos               fecha\n",
       "80   Martes     Centro       Liviano             537 2019-01-01 02:00:00\n",
       "86   Martes     Centro        Pesado               1 2019-01-01 02:00:00\n",
       "88   Martes  Provincia       Liviano             443 2019-01-01 02:00:00\n",
       "94   Martes  Provincia        Pesado               1 2019-01-01 02:00:00\n",
       "149  Martes     Centro       Liviano             769 2019-01-01 03:00:00"
      ]
     },
     "execution_count": 7,
     "metadata": {},
     "output_type": "execute_result"
    }
   ],
   "source": [
    "#Corregimos el nombre de fecha2 a fecha\n",
    "dataset.rename(columns = {'fecha2':'fecha'}, inplace = True) \n",
    "dataset.head()"
   ]
  },
  {
   "cell_type": "code",
   "execution_count": 8,
   "metadata": {},
   "outputs": [
    {
     "data": {
      "text/html": [
       "<div>\n",
       "<style scoped>\n",
       "    .dataframe tbody tr th:only-of-type {\n",
       "        vertical-align: middle;\n",
       "    }\n",
       "\n",
       "    .dataframe tbody tr th {\n",
       "        vertical-align: top;\n",
       "    }\n",
       "\n",
       "    .dataframe thead th {\n",
       "        text-align: right;\n",
       "    }\n",
       "</style>\n",
       "<table border=\"1\" class=\"dataframe\">\n",
       "  <thead>\n",
       "    <tr style=\"text-align: right;\">\n",
       "      <th></th>\n",
       "      <th>dia</th>\n",
       "      <th>sentido</th>\n",
       "      <th>tipo_vehiculo</th>\n",
       "      <th>cantidad_pasos</th>\n",
       "      <th>fecha</th>\n",
       "    </tr>\n",
       "  </thead>\n",
       "  <tbody>\n",
       "    <tr>\n",
       "      <th>0</th>\n",
       "      <td>Domingo</td>\n",
       "      <td>Provincia</td>\n",
       "      <td>Pesado</td>\n",
       "      <td>1</td>\n",
       "      <td>2017-01-01 00:00:00</td>\n",
       "    </tr>\n",
       "    <tr>\n",
       "      <th>1</th>\n",
       "      <td>Domingo</td>\n",
       "      <td>Provincia</td>\n",
       "      <td>Liviano</td>\n",
       "      <td>9</td>\n",
       "      <td>2017-01-01 00:00:00</td>\n",
       "    </tr>\n",
       "    <tr>\n",
       "      <th>2</th>\n",
       "      <td>Domingo</td>\n",
       "      <td>Provincia</td>\n",
       "      <td>Liviano</td>\n",
       "      <td>644</td>\n",
       "      <td>2017-01-01 00:00:00</td>\n",
       "    </tr>\n",
       "    <tr>\n",
       "      <th>3</th>\n",
       "      <td>Domingo</td>\n",
       "      <td>Provincia</td>\n",
       "      <td>Pesado</td>\n",
       "      <td>6</td>\n",
       "      <td>2017-01-01 00:00:00</td>\n",
       "    </tr>\n",
       "    <tr>\n",
       "      <th>4</th>\n",
       "      <td>Domingo</td>\n",
       "      <td>Provincia</td>\n",
       "      <td>Pesado</td>\n",
       "      <td>1</td>\n",
       "      <td>2017-01-01 00:00:00</td>\n",
       "    </tr>\n",
       "    <tr>\n",
       "      <th>...</th>\n",
       "      <td>...</td>\n",
       "      <td>...</td>\n",
       "      <td>...</td>\n",
       "      <td>...</td>\n",
       "      <td>...</td>\n",
       "    </tr>\n",
       "    <tr>\n",
       "      <th>238864</th>\n",
       "      <td>Martes</td>\n",
       "      <td>Provincia</td>\n",
       "      <td>Liviano</td>\n",
       "      <td>556</td>\n",
       "      <td>2019-12-31 22:00:00</td>\n",
       "    </tr>\n",
       "    <tr>\n",
       "      <th>238865</th>\n",
       "      <td>Martes</td>\n",
       "      <td>Provincia</td>\n",
       "      <td>Pesado</td>\n",
       "      <td>1</td>\n",
       "      <td>2019-12-31 22:00:00</td>\n",
       "    </tr>\n",
       "    <tr>\n",
       "      <th>238866</th>\n",
       "      <td>Martes</td>\n",
       "      <td>Centro</td>\n",
       "      <td>Liviano</td>\n",
       "      <td>580</td>\n",
       "      <td>2019-12-31 22:00:00</td>\n",
       "    </tr>\n",
       "    <tr>\n",
       "      <th>238867</th>\n",
       "      <td>Martes</td>\n",
       "      <td>Centro</td>\n",
       "      <td>Liviano</td>\n",
       "      <td>214</td>\n",
       "      <td>2019-12-31 23:00:00</td>\n",
       "    </tr>\n",
       "    <tr>\n",
       "      <th>238868</th>\n",
       "      <td>Martes</td>\n",
       "      <td>Provincia</td>\n",
       "      <td>Liviano</td>\n",
       "      <td>190</td>\n",
       "      <td>2019-12-31 23:00:00</td>\n",
       "    </tr>\n",
       "  </tbody>\n",
       "</table>\n",
       "<p>238869 rows × 5 columns</p>\n",
       "</div>"
      ],
      "text/plain": [
       "            dia    sentido tipo_vehiculo  cantidad_pasos               fecha\n",
       "0       Domingo  Provincia        Pesado               1 2017-01-01 00:00:00\n",
       "1       Domingo  Provincia       Liviano               9 2017-01-01 00:00:00\n",
       "2       Domingo  Provincia       Liviano             644 2017-01-01 00:00:00\n",
       "3       Domingo  Provincia        Pesado               6 2017-01-01 00:00:00\n",
       "4       Domingo  Provincia        Pesado               1 2017-01-01 00:00:00\n",
       "...         ...        ...           ...             ...                 ...\n",
       "238864   Martes  Provincia       Liviano             556 2019-12-31 22:00:00\n",
       "238865   Martes  Provincia        Pesado               1 2019-12-31 22:00:00\n",
       "238866   Martes     Centro       Liviano             580 2019-12-31 22:00:00\n",
       "238867   Martes     Centro       Liviano             214 2019-12-31 23:00:00\n",
       "238868   Martes  Provincia       Liviano             190 2019-12-31 23:00:00\n",
       "\n",
       "[238869 rows x 5 columns]"
      ]
     },
     "execution_count": 8,
     "metadata": {},
     "output_type": "execute_result"
    }
   ],
   "source": [
    "#Reordenamos el dataset por fecha\n",
    "dataset.sort_values('fecha', inplace = True)\n",
    "dataset.reset_index(drop=True, inplace = True)\n",
    "dataset"
   ]
  },
  {
   "cell_type": "code",
   "execution_count": 9,
   "metadata": {},
   "outputs": [
    {
     "data": {
      "image/png": "[encoded data removed]",
      "text/plain": [
       "<Figure size 1080x432 with 1 Axes>"
      ]
     },
     "metadata": {
      "needs_background": "light"
     },
     "output_type": "display_data"
    }
   ],
   "source": [
    "#Graficamos nuestros datos, tal como están\n",
    "plt.figure(figsize = (15,6))\n",
    "plt.plot(dataset.fecha, dataset.cantidad_pasos)\n",
    "plt.xlabel('Tiempo')\n",
    "plt.ylabel('Cantidad de autos, por hora')\n",
    "plt.show()"
   ]
  },
  {
   "cell_type": "code",
   "execution_count": 10,
   "metadata": {},
   "outputs": [
    {
     "name": "stdout",
     "output_type": "stream",
     "text": [
      "(1095, 1)\n"
     ]
    },
    {
     "data": {
      "text/html": [
       "<div>\n",
       "<style scoped>\n",
       "    .dataframe tbody tr th:only-of-type {\n",
       "        vertical-align: middle;\n",
       "    }\n",
       "\n",
       "    .dataframe tbody tr th {\n",
       "        vertical-align: top;\n",
       "    }\n",
       "\n",
       "    .dataframe thead th {\n",
       "        text-align: right;\n",
       "    }\n",
       "</style>\n",
       "<table border=\"1\" class=\"dataframe\">\n",
       "  <thead>\n",
       "    <tr style=\"text-align: right;\">\n",
       "      <th></th>\n",
       "      <th>cantidad_pasos</th>\n",
       "    </tr>\n",
       "    <tr>\n",
       "      <th>fecha</th>\n",
       "      <th></th>\n",
       "    </tr>\n",
       "  </thead>\n",
       "  <tbody>\n",
       "    <tr>\n",
       "      <th>2017-01-01</th>\n",
       "      <td>31183</td>\n",
       "    </tr>\n",
       "    <tr>\n",
       "      <th>2017-01-02</th>\n",
       "      <td>51568</td>\n",
       "    </tr>\n",
       "    <tr>\n",
       "      <th>2017-01-03</th>\n",
       "      <td>51093</td>\n",
       "    </tr>\n",
       "    <tr>\n",
       "      <th>2017-01-04</th>\n",
       "      <td>53332</td>\n",
       "    </tr>\n",
       "    <tr>\n",
       "      <th>2017-01-05</th>\n",
       "      <td>56486</td>\n",
       "    </tr>\n",
       "  </tbody>\n",
       "</table>\n",
       "</div>"
      ],
      "text/plain": [
       "            cantidad_pasos\n",
       "fecha                     \n",
       "2017-01-01           31183\n",
       "2017-01-02           51568\n",
       "2017-01-03           51093\n",
       "2017-01-04           53332\n",
       "2017-01-05           56486"
      ]
     },
     "execution_count": 10,
     "metadata": {},
     "output_type": "execute_result"
    }
   ],
   "source": [
    "#Resampleamos nuestros datos para agrupar por dia, y asi tal vez lograr una visualización mas amigable\n",
    "diario = dataset.resample('D', on = 'fecha').sum()\n",
    "print(diario.shape)\n",
    "diario.head()"
   ]
  },
  {
   "cell_type": "code",
   "execution_count": 11,
   "metadata": {},
   "outputs": [
    {
     "data": {
      "image/png": "[encoded data removed]",
      "text/plain": [
       "<Figure size 1080x432 with 1 Axes>"
      ]
     },
     "metadata": {
      "needs_background": "light"
     },
     "output_type": "display_data"
    }
   ],
   "source": [
    "plt.figure(figsize = (15,6))\n",
    "plt.plot(diario.index, diario.cantidad_pasos)\n",
    "plt.xlabel('Tiempo')\n",
    "plt.ylabel('Cantidad de autos, por dia')\n",
    "plt.show()"
   ]
  },
  {
   "cell_type": "markdown",
   "metadata": {},
   "source": [
    "Busquemos responder preguntas sobre nuestro dataset\n",
    "\n",
    "Primero vamos hacer enconding de algunas variables para poder hacer un count de cada una de ellas y podes explicarlas"
   ]
  },
  {
   "cell_type": "code",
   "execution_count": 12,
   "metadata": {},
   "outputs": [],
   "source": [
    "import seaborn as sns\n",
    "from sklearn.preprocessing import LabelEncoder"
   ]
  },
  {
   "cell_type": "code",
   "execution_count": 13,
   "metadata": {},
   "outputs": [],
   "source": [
    "dataset_encoding=dataset.filter([\"dia\",\"sentido\",\"tipo_vehiculo\"])\n",
    "dataset_encoding=dataset.apply(LabelEncoder().fit_transform)\n",
    "\n",
    "\n",
    "dataset = dataset.drop([\"dia\",\"sentido\",\"tipo_vehiculo\"],1)"
   ]
  },
  {
   "cell_type": "code",
   "execution_count": 14,
   "metadata": {},
   "outputs": [
    {
     "data": {
      "text/html": [
       "<div>\n",
       "<style scoped>\n",
       "    .dataframe tbody tr th:only-of-type {\n",
       "        vertical-align: middle;\n",
       "    }\n",
       "\n",
       "    .dataframe tbody tr th {\n",
       "        vertical-align: top;\n",
       "    }\n",
       "\n",
       "    .dataframe thead th {\n",
       "        text-align: right;\n",
       "    }\n",
       "</style>\n",
       "<table border=\"1\" class=\"dataframe\">\n",
       "  <thead>\n",
       "    <tr style=\"text-align: right;\">\n",
       "      <th></th>\n",
       "      <th>dia</th>\n",
       "      <th>sentido</th>\n",
       "      <th>tipo_vehiculo</th>\n",
       "      <th>cantidad_pasos</th>\n",
       "      <th>fecha</th>\n",
       "    </tr>\n",
       "  </thead>\n",
       "  <tbody>\n",
       "    <tr>\n",
       "      <th>0</th>\n",
       "      <td>0</td>\n",
       "      <td>1</td>\n",
       "      <td>1</td>\n",
       "      <td>0</td>\n",
       "      <td>0</td>\n",
       "    </tr>\n",
       "    <tr>\n",
       "      <th>1</th>\n",
       "      <td>0</td>\n",
       "      <td>1</td>\n",
       "      <td>0</td>\n",
       "      <td>8</td>\n",
       "      <td>0</td>\n",
       "    </tr>\n",
       "    <tr>\n",
       "      <th>2</th>\n",
       "      <td>0</td>\n",
       "      <td>1</td>\n",
       "      <td>0</td>\n",
       "      <td>643</td>\n",
       "      <td>0</td>\n",
       "    </tr>\n",
       "    <tr>\n",
       "      <th>3</th>\n",
       "      <td>0</td>\n",
       "      <td>1</td>\n",
       "      <td>1</td>\n",
       "      <td>5</td>\n",
       "      <td>0</td>\n",
       "    </tr>\n",
       "    <tr>\n",
       "      <th>4</th>\n",
       "      <td>0</td>\n",
       "      <td>1</td>\n",
       "      <td>1</td>\n",
       "      <td>0</td>\n",
       "      <td>0</td>\n",
       "    </tr>\n",
       "  </tbody>\n",
       "</table>\n",
       "</div>"
      ],
      "text/plain": [
       "   dia  sentido  tipo_vehiculo  cantidad_pasos  fecha\n",
       "0    0        1              1               0      0\n",
       "1    0        1              0               8      0\n",
       "2    0        1              0             643      0\n",
       "3    0        1              1               5      0\n",
       "4    0        1              1               0      0"
      ]
     },
     "execution_count": 14,
     "metadata": {},
     "output_type": "execute_result"
    }
   ],
   "source": [
    "dataset_encoding.head()"
   ]
  },
  {
   "cell_type": "code",
   "execution_count": 15,
   "metadata": {},
   "outputs": [
    {
     "data": {
      "text/html": [
       "<div>\n",
       "<style scoped>\n",
       "    .dataframe tbody tr th:only-of-type {\n",
       "        vertical-align: middle;\n",
       "    }\n",
       "\n",
       "    .dataframe tbody tr th {\n",
       "        vertical-align: top;\n",
       "    }\n",
       "\n",
       "    .dataframe thead th {\n",
       "        text-align: right;\n",
       "    }\n",
       "</style>\n",
       "<table border=\"1\" class=\"dataframe\">\n",
       "  <thead>\n",
       "    <tr style=\"text-align: right;\">\n",
       "      <th></th>\n",
       "      <th>index</th>\n",
       "      <th>dia</th>\n",
       "      <th>sentido</th>\n",
       "      <th>tipo_vehiculo</th>\n",
       "    </tr>\n",
       "  </thead>\n",
       "  <tbody>\n",
       "    <tr>\n",
       "      <th>0</th>\n",
       "      <td>0</td>\n",
       "      <td>0</td>\n",
       "      <td>1</td>\n",
       "      <td>1</td>\n",
       "    </tr>\n",
       "    <tr>\n",
       "      <th>1</th>\n",
       "      <td>1</td>\n",
       "      <td>0</td>\n",
       "      <td>1</td>\n",
       "      <td>0</td>\n",
       "    </tr>\n",
       "    <tr>\n",
       "      <th>2</th>\n",
       "      <td>2</td>\n",
       "      <td>0</td>\n",
       "      <td>1</td>\n",
       "      <td>0</td>\n",
       "    </tr>\n",
       "    <tr>\n",
       "      <th>3</th>\n",
       "      <td>3</td>\n",
       "      <td>0</td>\n",
       "      <td>1</td>\n",
       "      <td>1</td>\n",
       "    </tr>\n",
       "    <tr>\n",
       "      <th>4</th>\n",
       "      <td>4</td>\n",
       "      <td>0</td>\n",
       "      <td>1</td>\n",
       "      <td>1</td>\n",
       "    </tr>\n",
       "  </tbody>\n",
       "</table>\n",
       "</div>"
      ],
      "text/plain": [
       "   index  dia  sentido  tipo_vehiculo\n",
       "0      0    0        1              1\n",
       "1      1    0        1              0\n",
       "2      2    0        1              0\n",
       "3      3    0        1              1\n",
       "4      4    0        1              1"
      ]
     },
     "execution_count": 15,
     "metadata": {},
     "output_type": "execute_result"
    }
   ],
   "source": [
    "#dropeamos variables que no vamos a necesitar con encoding\n",
    "dataset1 = dataset_encoding.drop([\"cantidad_pasos\",\"fecha\"],1)\n",
    "dataset1.reset_index(inplace = True)\n",
    "dataset1.head()"
   ]
  },
  {
   "cell_type": "code",
   "execution_count": 16,
   "metadata": {},
   "outputs": [],
   "source": [
    "#unimos todas las variables\n",
    "dataset = dataset.join(dataset1)"
   ]
  },
  {
   "cell_type": "code",
   "execution_count": 17,
   "metadata": {},
   "outputs": [
    {
     "data": {
      "text/plain": [
       "<AxesSubplot:xlabel='count', ylabel='dia'>"
      ]
     },
     "execution_count": 17,
     "metadata": {},
     "output_type": "execute_result"
    },
    {
     "data": {
      "image/png": "[encoded data removed]",
      "text/plain": [
       "<Figure size 432x288 with 1 Axes>"
      ]
     },
     "metadata": {
      "needs_background": "light"
     },
     "output_type": "display_data"
    }
   ],
   "source": [
    "descending_order = dataset['dia'].value_counts().sort_values(ascending=False).index\n",
    "sns.countplot(data = dataset, y = \"dia\",order = descending_order)"
   ]
  },
  {
   "cell_type": "markdown",
   "metadata": {},
   "source": [
    "Que dias son los mas concurridos en esta estacion? Podemos ver que los domingos son los dias de mayor flujo"
   ]
  },
  {
   "cell_type": "code",
   "execution_count": 18,
   "metadata": {},
   "outputs": [
    {
     "data": {
      "text/plain": [
       "<AxesSubplot:xlabel='count', ylabel='tipo_vehiculo'>"
      ]
     },
     "execution_count": 18,
     "metadata": {},
     "output_type": "execute_result"
    },
    {
     "data": {
      "image/png": "[encoded data removed]",
      "text/plain": [
       "<Figure size 432x288 with 1 Axes>"
      ]
     },
     "metadata": {
      "needs_background": "light"
     },
     "output_type": "display_data"
    }
   ],
   "source": [
    "sns.countplot(data = dataset, y = \"tipo_vehiculo\")"
   ]
  },
  {
   "cell_type": "markdown",
   "metadata": {},
   "source": [
    "Podemos ver que hay mayor cantidad de flujos de vehiculos livianos"
   ]
  },
  {
   "cell_type": "code",
   "execution_count": 19,
   "metadata": {},
   "outputs": [
    {
     "data": {
      "text/plain": [
       "<AxesSubplot:xlabel='count', ylabel='sentido'>"
      ]
     },
     "execution_count": 19,
     "metadata": {},
     "output_type": "execute_result"
    },
    {
     "data": {
      "image/png": "[encoded data removed]",
      "text/plain": [
       "<Figure size 432x288 with 1 Axes>"
      ]
     },
     "metadata": {
      "needs_background": "light"
     },
     "output_type": "display_data"
    }
   ],
   "source": [
    "sns.countplot(data = dataset, y = \"sentido\")"
   ]
  },
  {
   "cell_type": "markdown",
   "metadata": {},
   "source": [
    "Otra consulta o query que podemos hacernos es cual es el sentido de los vehiculos, si es capital o provincia."
   ]
  },
  {
   "cell_type": "code",
   "execution_count": 20,
   "metadata": {},
   "outputs": [
    {
     "data": {
      "text/plain": [
       "(array([0, 1, 2, 3, 4, 5]),\n",
       " [Text(0, 0, 'NO COBRADO'),\n",
       "  Text(1, 0, 'TELEPASE'),\n",
       "  Text(2, 0, 'EFECTIVO'),\n",
       "  Text(3, 0, 'EXENTO'),\n",
       "  Text(4, 0, 'INFRACCION'),\n",
       "  Text(5, 0, 'T. DISCAPACIDAD')])"
      ]
     },
     "execution_count": 20,
     "metadata": {},
     "output_type": "execute_result"
    },
    {
     "data": {
      "image/png": "[encoded data removed]",
      "text/plain": [
       "<Figure size 720x504 with 1 Axes>"
      ]
     },
     "metadata": {
      "needs_background": "light"
     },
     "output_type": "display_data"
    }
   ],
   "source": [
    "plt.figure(figsize = (10,7))\n",
    "sns.countplot(data = data_2019, x = \"forma_pago\")\n",
    "plt.xticks(rotation=40)"
   ]
  },
  {
   "cell_type": "markdown",
   "metadata": {},
   "source": [
    "La forma de pago TELEPASE es la mas habitual en los conductores en 2019, esto se debe a que se hablo de que otros medios de pago iban a desaparecer para agilizar el flujo de autos"
   ]
  },
  {
   "cell_type": "code",
   "execution_count": 21,
   "metadata": {},
   "outputs": [
    {
     "data": {
      "text/plain": [
       "(array([0, 1, 2, 3, 4, 5]),\n",
       " [Text(0, 0, 'NO COBRADO'),\n",
       "  Text(1, 0, 'TELEPASE'),\n",
       "  Text(2, 0, 'EFECTIVO'),\n",
       "  Text(3, 0, 'EXENTO'),\n",
       "  Text(4, 0, 'TARJETA DISCAPACIDAD'),\n",
       "  Text(5, 0, 'INFRACCION')])"
      ]
     },
     "execution_count": 21,
     "metadata": {},
     "output_type": "execute_result"
    },
    {
     "data": {
      "image/png": "[encoded data removed]",
      "text/plain": [
       "<Figure size 720x504 with 1 Axes>"
      ]
     },
     "metadata": {
      "needs_background": "light"
     },
     "output_type": "display_data"
    }
   ],
   "source": [
    "plt.figure(figsize = (10,7))\n",
    "sns.countplot(data = data_2018, x = \"forma_pago\")\n",
    "plt.xticks(rotation=40)"
   ]
  },
  {
   "cell_type": "markdown",
   "metadata": {},
   "source": [
    "Vemos que forma de pago es la mas habitual en los conductores en 2018, telepase y efectivo son las formas de medio de pago."
   ]
  },
  {
   "cell_type": "code",
   "execution_count": 22,
   "metadata": {},
   "outputs": [
    {
     "data": {
      "text/plain": [
       "(array([0, 1, 2, 3, 4, 5, 6, 7]),\n",
       " [Text(0, 0, 'NO COBRADO'),\n",
       "  Text(1, 0, 'TELEPASE'),\n",
       "  Text(2, 0, 'EFECTIVO'),\n",
       "  Text(3, 0, 'TARJETA DISCAPACIDAD'),\n",
       "  Text(4, 0, 'EXENTO'),\n",
       "  Text(5, 0, 'INFRACCION'),\n",
       "  Text(6, 0, 'MONEDERO'),\n",
       "  Text(7, 0, 'Otros')])"
      ]
     },
     "execution_count": 22,
     "metadata": {},
     "output_type": "execute_result"
    },
    {
     "data": {
      "image/png": "[encoded data removed]",
      "text/plain": [
       "<Figure size 720x504 with 1 Axes>"
      ]
     },
     "metadata": {
      "needs_background": "light"
     },
     "output_type": "display_data"
    }
   ],
   "source": [
    "plt.figure(figsize = (10,7))\n",
    "sns.countplot(data = data_2017, x = \"forma_pago\")\n",
    "plt.xticks(rotation=40)"
   ]
  },
  {
   "cell_type": "markdown",
   "metadata": {},
   "source": [
    "En 2017 la conducta de pago es parecida a la de 2018"
   ]
  },
  {
   "cell_type": "markdown",
   "metadata": {},
   "source": [
    "<font size=\"5\"> Ingenieria de Features</font>"
   ]
  },
  {
   "cell_type": "markdown",
   "metadata": {},
   "source": [
    "Imputacion de valores faltantes"
   ]
  },
  {
   "cell_type": "code",
   "execution_count": 23,
   "metadata": {},
   "outputs": [
    {
     "data": {
      "text/plain": [
       "cantidad_pasos    0\n",
       "fecha             0\n",
       "index             0\n",
       "dia               0\n",
       "sentido           0\n",
       "tipo_vehiculo     0\n",
       "dtype: int64"
      ]
     },
     "execution_count": 23,
     "metadata": {},
     "output_type": "execute_result"
    }
   ],
   "source": [
    "dataset.isnull ().sum()"
   ]
  },
  {
   "cell_type": "code",
   "execution_count": 24,
   "metadata": {},
   "outputs": [
    {
     "data": {
      "text/plain": [
       "periodo           0\n",
       "fecha             0\n",
       "hora_inicio       0\n",
       "hora_fin          0\n",
       "dia               0\n",
       "estacion          0\n",
       "sentido           0\n",
       "tipo_vehiculo     0\n",
       "forma_pago        0\n",
       "cantidad_pasos    0\n",
       "dtype: int64"
      ]
     },
     "execution_count": 24,
     "metadata": {},
     "output_type": "execute_result"
    }
   ],
   "source": [
    "#Explorar valores faltantes 2019\n",
    "data_2019.isna().sum()\n",
    "#Explorar valores faltantes 2018\n",
    "data_2018.isna().sum()\n",
    "#Explorar valores faltantes 2017\n",
    "data_2017.isna().sum()"
   ]
  },
  {
   "cell_type": "markdown",
   "metadata": {},
   "source": [
    "Conclusion: no hay valores faltantes en nuestro set de datos"
   ]
  },
  {
   "cell_type": "code",
   "execution_count": 25,
   "metadata": {},
   "outputs": [
    {
     "data": {
      "text/html": [
       "<div>\n",
       "<style scoped>\n",
       "    .dataframe tbody tr th:only-of-type {\n",
       "        vertical-align: middle;\n",
       "    }\n",
       "\n",
       "    .dataframe tbody tr th {\n",
       "        vertical-align: top;\n",
       "    }\n",
       "\n",
       "    .dataframe thead th {\n",
       "        text-align: right;\n",
       "    }\n",
       "</style>\n",
       "<table border=\"1\" class=\"dataframe\">\n",
       "  <thead>\n",
       "    <tr style=\"text-align: right;\">\n",
       "      <th></th>\n",
       "      <th>cantidad_pasos</th>\n",
       "    </tr>\n",
       "  </thead>\n",
       "  <tbody>\n",
       "    <tr>\n",
       "      <th>count</th>\n",
       "      <td>1095.000000</td>\n",
       "    </tr>\n",
       "    <tr>\n",
       "      <th>mean</th>\n",
       "      <td>43712.859361</td>\n",
       "    </tr>\n",
       "    <tr>\n",
       "      <th>std</th>\n",
       "      <td>8192.736927</td>\n",
       "    </tr>\n",
       "    <tr>\n",
       "      <th>min</th>\n",
       "      <td>0.000000</td>\n",
       "    </tr>\n",
       "    <tr>\n",
       "      <th>25%</th>\n",
       "      <td>39061.500000</td>\n",
       "    </tr>\n",
       "    <tr>\n",
       "      <th>50%</th>\n",
       "      <td>43761.000000</td>\n",
       "    </tr>\n",
       "    <tr>\n",
       "      <th>75%</th>\n",
       "      <td>49498.000000</td>\n",
       "    </tr>\n",
       "    <tr>\n",
       "      <th>max</th>\n",
       "      <td>63127.000000</td>\n",
       "    </tr>\n",
       "  </tbody>\n",
       "</table>\n",
       "</div>"
      ],
      "text/plain": [
       "       cantidad_pasos\n",
       "count     1095.000000\n",
       "mean     43712.859361\n",
       "std       8192.736927\n",
       "min          0.000000\n",
       "25%      39061.500000\n",
       "50%      43761.000000\n",
       "75%      49498.000000\n",
       "max      63127.000000"
      ]
     },
     "execution_count": 25,
     "metadata": {},
     "output_type": "execute_result"
    }
   ],
   "source": [
    "diario_1 = diario.copy()\n",
    "diario_1.describe()"
   ]
  },
  {
   "cell_type": "markdown",
   "metadata": {},
   "source": [
    "Entendemos desvio estandar nuestra mediana y promedio"
   ]
  },
  {
   "cell_type": "code",
   "execution_count": 26,
   "metadata": {},
   "outputs": [
    {
     "data": {
      "text/html": [
       "<div>\n",
       "<style scoped>\n",
       "    .dataframe tbody tr th:only-of-type {\n",
       "        vertical-align: middle;\n",
       "    }\n",
       "\n",
       "    .dataframe tbody tr th {\n",
       "        vertical-align: top;\n",
       "    }\n",
       "\n",
       "    .dataframe thead th {\n",
       "        text-align: right;\n",
       "    }\n",
       "</style>\n",
       "<table border=\"1\" class=\"dataframe\">\n",
       "  <thead>\n",
       "    <tr style=\"text-align: right;\">\n",
       "      <th></th>\n",
       "      <th>cantidad_pasos</th>\n",
       "    </tr>\n",
       "    <tr>\n",
       "      <th>fecha</th>\n",
       "      <th></th>\n",
       "    </tr>\n",
       "  </thead>\n",
       "  <tbody>\n",
       "    <tr>\n",
       "      <th>2017-04-06</th>\n",
       "      <td>40</td>\n",
       "    </tr>\n",
       "    <tr>\n",
       "      <th>2018-06-25</th>\n",
       "      <td>0</td>\n",
       "    </tr>\n",
       "    <tr>\n",
       "      <th>2018-09-25</th>\n",
       "      <td>0</td>\n",
       "    </tr>\n",
       "    <tr>\n",
       "      <th>2018-11-30</th>\n",
       "      <td>0</td>\n",
       "    </tr>\n",
       "    <tr>\n",
       "      <th>2018-12-01</th>\n",
       "      <td>350</td>\n",
       "    </tr>\n",
       "    <tr>\n",
       "      <th>2019-05-29</th>\n",
       "      <td>0</td>\n",
       "    </tr>\n",
       "  </tbody>\n",
       "</table>\n",
       "</div>"
      ],
      "text/plain": [
       "            cantidad_pasos\n",
       "fecha                     \n",
       "2017-04-06              40\n",
       "2018-06-25               0\n",
       "2018-09-25               0\n",
       "2018-11-30               0\n",
       "2018-12-01             350\n",
       "2019-05-29               0"
      ]
     },
     "execution_count": 26,
     "metadata": {},
     "output_type": "execute_result"
    }
   ],
   "source": [
    "diario_atipico = diario[diario.cantidad_pasos <= 10000]\n",
    "diario_atipico"
   ]
  },
  {
   "cell_type": "markdown",
   "metadata": {},
   "source": [
    "- Conclusion: Se observan valores atipicos (En el grafico podemos visualizarlos como picos negativos)\n",
    "La hipotesis que tenemos de estos valores atípicos se deben a fechas donde hubo fallas con el pago en efectivo.\n",
    "\n",
    "* Se toma la decision de reemplazar eso valores atípicos mediante la interpolacion.\n",
    " * La interpolación es el proceso de encontrar un valor entre dos puntos en una línea o una curva. Para ayudarnos a recordar lo que significa, debemos pensar en la primera parte de la palabra, 'inter', como si significara 'ingresar', lo que nos recuerda que debemos mirar 'dentro' de los datos que teníamos originalmente. Esta herramienta, la interpolación, no solo es útil en estadísticas, sino que también es útil en ciencia, negocios o cuando existe la necesidad de predecir valores que se encuentran dentro de dos puntos de datos existentes."
   ]
  },
  {
   "cell_type": "code",
   "execution_count": 27,
   "metadata": {},
   "outputs": [],
   "source": [
    "diario.cantidad_pasos[diario.cantidad_pasos <=10000] = np.nan"
   ]
  },
  {
   "cell_type": "code",
   "execution_count": 28,
   "metadata": {},
   "outputs": [
    {
     "name": "stdout",
     "output_type": "stream",
     "text": [
      "cantidad_pasos    6\n",
      "dtype: int64\n",
      "cantidad_pasos    0\n",
      "dtype: int64\n"
     ]
    }
   ],
   "source": [
    "print(diario.isna().sum())\n",
    "diario = diario.interpolate(method='nearest', k = 4)\n",
    "print(diario.isna().sum())"
   ]
  },
  {
   "cell_type": "code",
   "execution_count": 29,
   "metadata": {},
   "outputs": [
    {
     "data": {
      "image/png": "[encoded data removed]",
      "text/plain": [
       "<Figure size 1080x360 with 1 Axes>"
      ]
     },
     "metadata": {
      "needs_background": "light"
     },
     "output_type": "display_data"
    }
   ],
   "source": [
    "plt.figure(figsize = (15,5))\n",
    "plt.plot(diario.index, diario.cantidad_pasos, color = 'grey')\n",
    "plt.title(\"Flujo de pasos medido por dia \\n sin valores atípicos\", color= 'grey', fontsize= 17)\n",
    "plt.xlabel('Tiempo')\n",
    "plt.ylabel('Cantidad de autos por día')\n",
    "plt.ylim(ymin=0)\n",
    "plt.show()"
   ]
  },
  {
   "cell_type": "markdown",
   "metadata": {},
   "source": [
    "En el grafico vemos que no tenemos mas valores atipicos, ya con la tecnica de interpolacion aplicada"
   ]
  },
  {
   "cell_type": "markdown",
   "metadata": {},
   "source": [
    "<font size=\"5\"> Implementacion de Modelos</font>"
   ]
  },
  {
   "cell_type": "markdown",
   "metadata": {},
   "source": [
    "Empezamos a probar los primeros modelos"
   ]
  },
  {
   "cell_type": "code",
   "execution_count": 30,
   "metadata": {},
   "outputs": [],
   "source": [
    "from sklearn.metrics import mean_squared_error\n",
    "from sklearn.ensemble import RandomForestRegressor\n",
    "from sklearn.model_selection import train_test_split\n",
    "from sklearn.model_selection import RandomizedSearchCV\n",
    "from sklearn.linear_model import LinearRegression\n",
    "import scipy as sp"
   ]
  },
  {
   "cell_type": "code",
   "execution_count": 31,
   "metadata": {},
   "outputs": [
    {
     "data": {
      "text/html": [
       "<div>\n",
       "<style scoped>\n",
       "    .dataframe tbody tr th:only-of-type {\n",
       "        vertical-align: middle;\n",
       "    }\n",
       "\n",
       "    .dataframe tbody tr th {\n",
       "        vertical-align: top;\n",
       "    }\n",
       "\n",
       "    .dataframe thead th {\n",
       "        text-align: right;\n",
       "    }\n",
       "</style>\n",
       "<table border=\"1\" class=\"dataframe\">\n",
       "  <thead>\n",
       "    <tr style=\"text-align: right;\">\n",
       "      <th></th>\n",
       "      <th>cantidad_pasos</th>\n",
       "      <th>fecha</th>\n",
       "      <th>index</th>\n",
       "      <th>dia</th>\n",
       "      <th>sentido</th>\n",
       "      <th>tipo_vehiculo</th>\n",
       "    </tr>\n",
       "  </thead>\n",
       "  <tbody>\n",
       "    <tr>\n",
       "      <th>0</th>\n",
       "      <td>1</td>\n",
       "      <td>2017-01-01 00:00:00</td>\n",
       "      <td>0</td>\n",
       "      <td>0</td>\n",
       "      <td>1</td>\n",
       "      <td>1</td>\n",
       "    </tr>\n",
       "    <tr>\n",
       "      <th>1</th>\n",
       "      <td>9</td>\n",
       "      <td>2017-01-01 00:00:00</td>\n",
       "      <td>1</td>\n",
       "      <td>0</td>\n",
       "      <td>1</td>\n",
       "      <td>0</td>\n",
       "    </tr>\n",
       "    <tr>\n",
       "      <th>2</th>\n",
       "      <td>644</td>\n",
       "      <td>2017-01-01 00:00:00</td>\n",
       "      <td>2</td>\n",
       "      <td>0</td>\n",
       "      <td>1</td>\n",
       "      <td>0</td>\n",
       "    </tr>\n",
       "    <tr>\n",
       "      <th>3</th>\n",
       "      <td>6</td>\n",
       "      <td>2017-01-01 00:00:00</td>\n",
       "      <td>3</td>\n",
       "      <td>0</td>\n",
       "      <td>1</td>\n",
       "      <td>1</td>\n",
       "    </tr>\n",
       "    <tr>\n",
       "      <th>4</th>\n",
       "      <td>1</td>\n",
       "      <td>2017-01-01 00:00:00</td>\n",
       "      <td>4</td>\n",
       "      <td>0</td>\n",
       "      <td>1</td>\n",
       "      <td>1</td>\n",
       "    </tr>\n",
       "    <tr>\n",
       "      <th>...</th>\n",
       "      <td>...</td>\n",
       "      <td>...</td>\n",
       "      <td>...</td>\n",
       "      <td>...</td>\n",
       "      <td>...</td>\n",
       "      <td>...</td>\n",
       "    </tr>\n",
       "    <tr>\n",
       "      <th>238864</th>\n",
       "      <td>556</td>\n",
       "      <td>2019-12-31 22:00:00</td>\n",
       "      <td>238864</td>\n",
       "      <td>3</td>\n",
       "      <td>1</td>\n",
       "      <td>0</td>\n",
       "    </tr>\n",
       "    <tr>\n",
       "      <th>238865</th>\n",
       "      <td>1</td>\n",
       "      <td>2019-12-31 22:00:00</td>\n",
       "      <td>238865</td>\n",
       "      <td>3</td>\n",
       "      <td>1</td>\n",
       "      <td>1</td>\n",
       "    </tr>\n",
       "    <tr>\n",
       "      <th>238866</th>\n",
       "      <td>580</td>\n",
       "      <td>2019-12-31 22:00:00</td>\n",
       "      <td>238866</td>\n",
       "      <td>3</td>\n",
       "      <td>0</td>\n",
       "      <td>0</td>\n",
       "    </tr>\n",
       "    <tr>\n",
       "      <th>238867</th>\n",
       "      <td>214</td>\n",
       "      <td>2019-12-31 23:00:00</td>\n",
       "      <td>238867</td>\n",
       "      <td>3</td>\n",
       "      <td>0</td>\n",
       "      <td>0</td>\n",
       "    </tr>\n",
       "    <tr>\n",
       "      <th>238868</th>\n",
       "      <td>190</td>\n",
       "      <td>2019-12-31 23:00:00</td>\n",
       "      <td>238868</td>\n",
       "      <td>3</td>\n",
       "      <td>1</td>\n",
       "      <td>0</td>\n",
       "    </tr>\n",
       "  </tbody>\n",
       "</table>\n",
       "<p>238869 rows × 6 columns</p>\n",
       "</div>"
      ],
      "text/plain": [
       "        cantidad_pasos               fecha   index  dia  sentido  \\\n",
       "0                    1 2017-01-01 00:00:00       0    0        1   \n",
       "1                    9 2017-01-01 00:00:00       1    0        1   \n",
       "2                  644 2017-01-01 00:00:00       2    0        1   \n",
       "3                    6 2017-01-01 00:00:00       3    0        1   \n",
       "4                    1 2017-01-01 00:00:00       4    0        1   \n",
       "...                ...                 ...     ...  ...      ...   \n",
       "238864             556 2019-12-31 22:00:00  238864    3        1   \n",
       "238865               1 2019-12-31 22:00:00  238865    3        1   \n",
       "238866             580 2019-12-31 22:00:00  238866    3        0   \n",
       "238867             214 2019-12-31 23:00:00  238867    3        0   \n",
       "238868             190 2019-12-31 23:00:00  238868    3        1   \n",
       "\n",
       "        tipo_vehiculo  \n",
       "0                   1  \n",
       "1                   0  \n",
       "2                   0  \n",
       "3                   1  \n",
       "4                   1  \n",
       "...               ...  \n",
       "238864              0  \n",
       "238865              1  \n",
       "238866              0  \n",
       "238867              0  \n",
       "238868              0  \n",
       "\n",
       "[238869 rows x 6 columns]"
      ]
     },
     "execution_count": 31,
     "metadata": {},
     "output_type": "execute_result"
    }
   ],
   "source": [
    "#Creamos una copia de nuestro dataframe\n",
    "data_ml = dataset.copy()\n",
    "data_ml"
   ]
  },
  {
   "cell_type": "code",
   "execution_count": 32,
   "metadata": {},
   "outputs": [],
   "source": [
    "dataset_encoding.drop(columns = ['cantidad_pasos'], inplace = True)"
   ]
  },
  {
   "cell_type": "code",
   "execution_count": 33,
   "metadata": {},
   "outputs": [],
   "source": [
    "X = dataset_encoding\n",
    "y = data_ml['cantidad_pasos']\n",
    "X_train, X_test, y_train, y_test = train_test_split(\n",
    "    X, y, test_size=0.30, random_state=42)\n",
    "\n"
   ]
  },
  {
   "cell_type": "code",
   "execution_count": 34,
   "metadata": {},
   "outputs": [],
   "source": [
    "rf = RandomForestRegressor(n_estimators=50, random_state=42, n_jobs = 4).fit(X_train,y_train)\n",
    "linear_model = LinearRegression()"
   ]
  },
  {
   "cell_type": "code",
   "execution_count": 35,
   "metadata": {},
   "outputs": [],
   "source": [
    "random_grid = {'bootstrap': [False],\n",
    "               'max_depth': [10, 20, 30, 40, 50],\n",
    "               'max_features': ['auto', 'sqrt'],\n",
    "               'min_samples_leaf': [1, 2, 4],\n",
    "               'min_samples_split': [2, 5, 10],\n",
    "               'n_estimators': [50, 70, 100]}"
   ]
  },
  {
   "cell_type": "code",
   "execution_count": 36,
   "metadata": {},
   "outputs": [],
   "source": [
    "RFReg = RandomizedSearchCV(rf, random_grid,n_iter=10, random_state=0, cv=5)\n",
    "\n"
   ]
  },
  {
   "cell_type": "code",
   "execution_count": 37,
   "metadata": {},
   "outputs": [
    {
     "data": {
      "text/plain": [
       "RandomizedSearchCV(cv=5,\n",
       "                   estimator=RandomForestRegressor(n_estimators=50, n_jobs=4,\n",
       "                                                   random_state=42),\n",
       "                   param_distributions={'bootstrap': [False],\n",
       "                                        'max_depth': [10, 20, 30, 40, 50],\n",
       "                                        'max_features': ['auto', 'sqrt'],\n",
       "                                        'min_samples_leaf': [1, 2, 4],\n",
       "                                        'min_samples_split': [2, 5, 10],\n",
       "                                        'n_estimators': [50, 70, 100]},\n",
       "                   random_state=0)"
      ]
     },
     "execution_count": 37,
     "metadata": {},
     "output_type": "execute_result"
    }
   ],
   "source": [
    "linear_model.fit(X_train, y_train)\n",
    "RFReg.fit(X_train, y_train)"
   ]
  },
  {
   "cell_type": "code",
   "execution_count": 38,
   "metadata": {},
   "outputs": [
    {
     "name": "stdout",
     "output_type": "stream",
     "text": [
      "Modelo: Regresión lineal benchmark\n",
      "Raíz del error cuadrático medio en Train: 314.43388079668887\n",
      "Raíz del error cuadrático medio en Test: 312.67050786477\n"
     ]
    },
    {
     "name": "stderr",
     "output_type": "stream",
     "text": [
      "C:\\Users\\Marcos\\.conda\\envs\\myenv\\lib\\site-packages\\seaborn\\distributions.py:2557: FutureWarning: `distplot` is a deprecated function and will be removed in a future version. Please adapt your code to use either `displot` (a figure-level function with similar flexibility) or `histplot` (an axes-level function for histograms).\n",
      "  warnings.warn(msg, FutureWarning)\n",
      "C:\\Users\\Marcos\\.conda\\envs\\myenv\\lib\\site-packages\\seaborn\\distributions.py:2557: FutureWarning: `distplot` is a deprecated function and will be removed in a future version. Please adapt your code to use either `displot` (a figure-level function with similar flexibility) or `histplot` (an axes-level function for histograms).\n",
      "  warnings.warn(msg, FutureWarning)\n"
     ]
    },
    {
     "data": {
      "image/png": "[encoded data removed]",
      "text/plain": [
       "<Figure size 576x288 with 2 Axes>"
      ]
     },
     "metadata": {
      "needs_background": "light"
     },
     "output_type": "display_data"
    }
   ],
   "source": [
    "from sklearn.metrics import mean_squared_error\n",
    "modelos = ['Regresión lineal benchmark']\n",
    "\n",
    "for i, model in enumerate([linear_model]):\n",
    "    y_train_pred = model.predict(X_train)\n",
    "    y_test_pred = model.predict(X_test)\n",
    "    \n",
    "    print(f'Modelo: {modelos[i]}')\n",
    "    rmse_train = np.sqrt(mean_squared_error(y_train, y_train_pred))\n",
    "    rmse_test = np.sqrt(mean_squared_error(y_test, y_test_pred))\n",
    "    print(f'Raíz del error cuadrático medio en Train: {rmse_train}')\n",
    "    print(f'Raíz del error cuadrático medio en Test: {rmse_test}')\n",
    "    \n",
    "    plt.figure(figsize = (8,4))\n",
    "\n",
    "    plt.subplot(1,2,1)\n",
    "    sns.distplot(y_train - y_train_pred, bins = 20, label = 'train')\n",
    "    sns.distplot(y_test - y_test_pred, bins = 20, label = 'test')\n",
    "    plt.xlabel('errores')\n",
    "    plt.legend()\n",
    "\n",
    "    ax = plt.subplot(1,2,2)\n",
    "    ax.scatter(y_test,y_test_pred, s =2)    \n",
    "    lims = [\n",
    "    np.min([ax.get_xlim(), ax.get_ylim()]),  \n",
    "    np.max([ax.get_xlim(), ax.get_ylim()]),  \n",
    "    ]\n",
    "    \n",
    "    ax.plot(lims, lims, 'k-', alpha=0.75, zorder=0)\n",
    "    plt.xlabel('y (test)')\n",
    "    plt.ylabel('y_pred (test)')\n",
    "    \n",
    "    plt.tight_layout()\n",
    "    plt.show()"
   ]
  },
  {
   "cell_type": "markdown",
   "metadata": {},
   "source": [
    "Lo que estamos viendo es que el modelo no logra interpretar el factor de la estacionalidad, con lo cual da un error cuadratico medio bastante elevado"
   ]
  },
  {
   "cell_type": "code",
   "execution_count": 39,
   "metadata": {},
   "outputs": [
    {
     "name": "stdout",
     "output_type": "stream",
     "text": [
      "Modelo: Random Forrest Regressor\n",
      "Raíz del error cuadrático medio en Train: 301.66485911618815\n",
      "Raíz del error cuadrático medio en Test: 304.9927204863953\n"
     ]
    },
    {
     "name": "stderr",
     "output_type": "stream",
     "text": [
      "C:\\Users\\Marcos\\.conda\\envs\\myenv\\lib\\site-packages\\seaborn\\distributions.py:2557: FutureWarning: `distplot` is a deprecated function and will be removed in a future version. Please adapt your code to use either `displot` (a figure-level function with similar flexibility) or `histplot` (an axes-level function for histograms).\n",
      "  warnings.warn(msg, FutureWarning)\n",
      "C:\\Users\\Marcos\\.conda\\envs\\myenv\\lib\\site-packages\\seaborn\\distributions.py:2557: FutureWarning: `distplot` is a deprecated function and will be removed in a future version. Please adapt your code to use either `displot` (a figure-level function with similar flexibility) or `histplot` (an axes-level function for histograms).\n",
      "  warnings.warn(msg, FutureWarning)\n"
     ]
    },
    {
     "data": {
      "image/png": "[encoded data removed]",
      "text/plain": [
       "<Figure size 576x288 with 2 Axes>"
      ]
     },
     "metadata": {
      "needs_background": "light"
     },
     "output_type": "display_data"
    }
   ],
   "source": [
    "from sklearn.metrics import mean_squared_error\n",
    "modelos = ['Random Forrest Regressor']\n",
    "\n",
    "for i, model in enumerate([RFReg]):\n",
    "    y_train_pred = model.predict(X_train)\n",
    "    y_test_pred = model.predict(X_test)\n",
    "    \n",
    "    print(f'Modelo: {modelos[i]}')\n",
    "    rmse_train = np.sqrt(mean_squared_error(y_train, y_train_pred))\n",
    "    rmse_test = np.sqrt(mean_squared_error(y_test, y_test_pred))\n",
    "    print(f'Raíz del error cuadrático medio en Train: {rmse_train}')\n",
    "    print(f'Raíz del error cuadrático medio en Test: {rmse_test}')\n",
    "    \n",
    "    plt.figure(figsize = (8,4))\n",
    "\n",
    "    plt.subplot(1,2,1)\n",
    "    sns.distplot(y_train - y_train_pred, bins = 20, label = 'train')\n",
    "    sns.distplot(y_test - y_test_pred, bins = 20, label = 'test')\n",
    "    plt.xlabel('errores')\n",
    "    plt.legend()\n",
    "\n",
    "    ax = plt.subplot(1,2,2)\n",
    "    ax.scatter(y_test,y_test_pred, s =2)    \n",
    "    lims = [\n",
    "    np.min([ax.get_xlim(), ax.get_ylim()]),  \n",
    "    np.max([ax.get_xlim(), ax.get_ylim()]),  \n",
    "    ]\n",
    "    \n",
    "    ax.plot(lims, lims, 'k-', alpha=0.75, zorder=0)\n",
    "    plt.xlabel('y (test)')\n",
    "    plt.ylabel('y_pred (test)')\n",
    "    \n",
    "    plt.tight_layout()\n",
    "    plt.show()"
   ]
  },
  {
   "cell_type": "markdown",
   "metadata": {},
   "source": [
    "Aca vemos lo mismo que en el regresor lineal, el modelo no es acertivo, aunque mejora en el rmse, tambien se debe a la falta del factor de estacionalidad.\n"
   ]
  },
  {
   "cell_type": "code",
   "execution_count": 40,
   "metadata": {},
   "outputs": [
    {
     "name": "stdout",
     "output_type": "stream",
     "text": [
      "Mejores parametros: {'n_estimators': 50, 'min_samples_split': 10, 'min_samples_leaf': 2, 'max_features': 'auto', 'max_depth': 10, 'bootstrap': False}\n",
      "Mejor Score: 0.4276931302601696\n",
      "\n"
     ]
    },
    {
     "data": {
      "text/html": [
       "<div>\n",
       "<style scoped>\n",
       "    .dataframe tbody tr th:only-of-type {\n",
       "        vertical-align: middle;\n",
       "    }\n",
       "\n",
       "    .dataframe tbody tr th {\n",
       "        vertical-align: top;\n",
       "    }\n",
       "\n",
       "    .dataframe thead th {\n",
       "        text-align: right;\n",
       "    }\n",
       "</style>\n",
       "<table border=\"1\" class=\"dataframe\">\n",
       "  <thead>\n",
       "    <tr style=\"text-align: right;\">\n",
       "      <th></th>\n",
       "      <th>mean_fit_time</th>\n",
       "      <th>std_fit_time</th>\n",
       "      <th>mean_score_time</th>\n",
       "      <th>std_score_time</th>\n",
       "      <th>param_n_estimators</th>\n",
       "      <th>param_min_samples_split</th>\n",
       "      <th>param_min_samples_leaf</th>\n",
       "      <th>param_max_features</th>\n",
       "      <th>param_max_depth</th>\n",
       "      <th>param_bootstrap</th>\n",
       "      <th>params</th>\n",
       "      <th>split0_test_score</th>\n",
       "      <th>split1_test_score</th>\n",
       "      <th>split2_test_score</th>\n",
       "      <th>split3_test_score</th>\n",
       "      <th>split4_test_score</th>\n",
       "      <th>mean_test_score</th>\n",
       "      <th>std_test_score</th>\n",
       "      <th>rank_test_score</th>\n",
       "    </tr>\n",
       "  </thead>\n",
       "  <tbody>\n",
       "    <tr>\n",
       "      <th>0</th>\n",
       "      <td>6.517162</td>\n",
       "      <td>0.608904</td>\n",
       "      <td>0.223339</td>\n",
       "      <td>0.001362</td>\n",
       "      <td>70</td>\n",
       "      <td>2</td>\n",
       "      <td>2</td>\n",
       "      <td>auto</td>\n",
       "      <td>20</td>\n",
       "      <td>False</td>\n",
       "      <td>{'n_estimators': 70, 'min_samples_split': 2, '...</td>\n",
       "      <td>0.366666</td>\n",
       "      <td>0.372889</td>\n",
       "      <td>0.376082</td>\n",
       "      <td>0.366803</td>\n",
       "      <td>0.382397</td>\n",
       "      <td>0.372967</td>\n",
       "      <td>0.005939</td>\n",
       "      <td>3</td>\n",
       "    </tr>\n",
       "    <tr>\n",
       "      <th>1</th>\n",
       "      <td>4.776389</td>\n",
       "      <td>0.192085</td>\n",
       "      <td>0.335510</td>\n",
       "      <td>0.001204</td>\n",
       "      <td>50</td>\n",
       "      <td>2</td>\n",
       "      <td>1</td>\n",
       "      <td>sqrt</td>\n",
       "      <td>30</td>\n",
       "      <td>False</td>\n",
       "      <td>{'n_estimators': 50, 'min_samples_split': 2, '...</td>\n",
       "      <td>0.115805</td>\n",
       "      <td>0.126783</td>\n",
       "      <td>0.118486</td>\n",
       "      <td>0.122838</td>\n",
       "      <td>0.151097</td>\n",
       "      <td>0.127002</td>\n",
       "      <td>0.012616</td>\n",
       "      <td>9</td>\n",
       "    </tr>\n",
       "    <tr>\n",
       "      <th>2</th>\n",
       "      <td>3.902512</td>\n",
       "      <td>0.107021</td>\n",
       "      <td>0.222938</td>\n",
       "      <td>0.000751</td>\n",
       "      <td>50</td>\n",
       "      <td>2</td>\n",
       "      <td>4</td>\n",
       "      <td>sqrt</td>\n",
       "      <td>30</td>\n",
       "      <td>False</td>\n",
       "      <td>{'n_estimators': 50, 'min_samples_split': 2, '...</td>\n",
       "      <td>0.385889</td>\n",
       "      <td>0.391599</td>\n",
       "      <td>0.371865</td>\n",
       "      <td>0.389804</td>\n",
       "      <td>0.387893</td>\n",
       "      <td>0.385410</td>\n",
       "      <td>0.007035</td>\n",
       "      <td>2</td>\n",
       "    </tr>\n",
       "    <tr>\n",
       "      <th>3</th>\n",
       "      <td>5.080408</td>\n",
       "      <td>0.301590</td>\n",
       "      <td>0.403536</td>\n",
       "      <td>0.054233</td>\n",
       "      <td>50</td>\n",
       "      <td>2</td>\n",
       "      <td>1</td>\n",
       "      <td>sqrt</td>\n",
       "      <td>40</td>\n",
       "      <td>False</td>\n",
       "      <td>{'n_estimators': 50, 'min_samples_split': 2, '...</td>\n",
       "      <td>-0.014562</td>\n",
       "      <td>-0.000398</td>\n",
       "      <td>-0.010167</td>\n",
       "      <td>0.003147</td>\n",
       "      <td>0.015619</td>\n",
       "      <td>-0.001272</td>\n",
       "      <td>0.010596</td>\n",
       "      <td>10</td>\n",
       "    </tr>\n",
       "    <tr>\n",
       "      <th>4</th>\n",
       "      <td>6.031771</td>\n",
       "      <td>0.120149</td>\n",
       "      <td>0.447282</td>\n",
       "      <td>0.001330</td>\n",
       "      <td>70</td>\n",
       "      <td>2</td>\n",
       "      <td>2</td>\n",
       "      <td>sqrt</td>\n",
       "      <td>50</td>\n",
       "      <td>False</td>\n",
       "      <td>{'n_estimators': 70, 'min_samples_split': 2, '...</td>\n",
       "      <td>0.196272</td>\n",
       "      <td>0.208031</td>\n",
       "      <td>0.186235</td>\n",
       "      <td>0.204377</td>\n",
       "      <td>0.204090</td>\n",
       "      <td>0.199801</td>\n",
       "      <td>0.007792</td>\n",
       "      <td>8</td>\n",
       "    </tr>\n",
       "    <tr>\n",
       "      <th>5</th>\n",
       "      <td>4.404172</td>\n",
       "      <td>0.086914</td>\n",
       "      <td>0.335511</td>\n",
       "      <td>0.001750</td>\n",
       "      <td>50</td>\n",
       "      <td>2</td>\n",
       "      <td>2</td>\n",
       "      <td>sqrt</td>\n",
       "      <td>40</td>\n",
       "      <td>False</td>\n",
       "      <td>{'n_estimators': 50, 'min_samples_split': 2, '...</td>\n",
       "      <td>0.217551</td>\n",
       "      <td>0.224480</td>\n",
       "      <td>0.206463</td>\n",
       "      <td>0.224580</td>\n",
       "      <td>0.233588</td>\n",
       "      <td>0.221332</td>\n",
       "      <td>0.009012</td>\n",
       "      <td>6</td>\n",
       "    </tr>\n",
       "    <tr>\n",
       "      <th>6</th>\n",
       "      <td>4.100567</td>\n",
       "      <td>0.114383</td>\n",
       "      <td>0.313035</td>\n",
       "      <td>0.045161</td>\n",
       "      <td>50</td>\n",
       "      <td>2</td>\n",
       "      <td>2</td>\n",
       "      <td>sqrt</td>\n",
       "      <td>30</td>\n",
       "      <td>False</td>\n",
       "      <td>{'n_estimators': 50, 'min_samples_split': 2, '...</td>\n",
       "      <td>0.276805</td>\n",
       "      <td>0.279317</td>\n",
       "      <td>0.273817</td>\n",
       "      <td>0.281728</td>\n",
       "      <td>0.290710</td>\n",
       "      <td>0.280476</td>\n",
       "      <td>0.005753</td>\n",
       "      <td>5</td>\n",
       "    </tr>\n",
       "    <tr>\n",
       "      <th>7</th>\n",
       "      <td>5.162881</td>\n",
       "      <td>0.094083</td>\n",
       "      <td>0.223540</td>\n",
       "      <td>0.001172</td>\n",
       "      <td>50</td>\n",
       "      <td>2</td>\n",
       "      <td>4</td>\n",
       "      <td>auto</td>\n",
       "      <td>40</td>\n",
       "      <td>False</td>\n",
       "      <td>{'n_estimators': 50, 'min_samples_split': 2, '...</td>\n",
       "      <td>0.368998</td>\n",
       "      <td>0.384537</td>\n",
       "      <td>0.362667</td>\n",
       "      <td>0.372417</td>\n",
       "      <td>0.365969</td>\n",
       "      <td>0.370918</td>\n",
       "      <td>0.007536</td>\n",
       "      <td>4</td>\n",
       "    </tr>\n",
       "    <tr>\n",
       "      <th>8</th>\n",
       "      <td>6.158777</td>\n",
       "      <td>0.167450</td>\n",
       "      <td>0.517112</td>\n",
       "      <td>0.094541</td>\n",
       "      <td>70</td>\n",
       "      <td>5</td>\n",
       "      <td>2</td>\n",
       "      <td>sqrt</td>\n",
       "      <td>50</td>\n",
       "      <td>False</td>\n",
       "      <td>{'n_estimators': 70, 'min_samples_split': 5, '...</td>\n",
       "      <td>0.215797</td>\n",
       "      <td>0.224782</td>\n",
       "      <td>0.205677</td>\n",
       "      <td>0.221353</td>\n",
       "      <td>0.218898</td>\n",
       "      <td>0.217302</td>\n",
       "      <td>0.006516</td>\n",
       "      <td>7</td>\n",
       "    </tr>\n",
       "    <tr>\n",
       "      <th>9</th>\n",
       "      <td>2.391714</td>\n",
       "      <td>0.072726</td>\n",
       "      <td>0.112372</td>\n",
       "      <td>0.000001</td>\n",
       "      <td>50</td>\n",
       "      <td>10</td>\n",
       "      <td>2</td>\n",
       "      <td>auto</td>\n",
       "      <td>10</td>\n",
       "      <td>False</td>\n",
       "      <td>{'n_estimators': 50, 'min_samples_split': 10, ...</td>\n",
       "      <td>0.420374</td>\n",
       "      <td>0.432860</td>\n",
       "      <td>0.426460</td>\n",
       "      <td>0.426240</td>\n",
       "      <td>0.432532</td>\n",
       "      <td>0.427693</td>\n",
       "      <td>0.004633</td>\n",
       "      <td>1</td>\n",
       "    </tr>\n",
       "  </tbody>\n",
       "</table>\n",
       "</div>"
      ],
      "text/plain": [
       "   mean_fit_time  std_fit_time  mean_score_time  std_score_time  \\\n",
       "0       6.517162      0.608904         0.223339        0.001362   \n",
       "1       4.776389      0.192085         0.335510        0.001204   \n",
       "2       3.902512      0.107021         0.222938        0.000751   \n",
       "3       5.080408      0.301590         0.403536        0.054233   \n",
       "4       6.031771      0.120149         0.447282        0.001330   \n",
       "5       4.404172      0.086914         0.335511        0.001750   \n",
       "6       4.100567      0.114383         0.313035        0.045161   \n",
       "7       5.162881      0.094083         0.223540        0.001172   \n",
       "8       6.158777      0.167450         0.517112        0.094541   \n",
       "9       2.391714      0.072726         0.112372        0.000001   \n",
       "\n",
       "  param_n_estimators param_min_samples_split param_min_samples_leaf  \\\n",
       "0                 70                       2                      2   \n",
       "1                 50                       2                      1   \n",
       "2                 50                       2                      4   \n",
       "3                 50                       2                      1   \n",
       "4                 70                       2                      2   \n",
       "5                 50                       2                      2   \n",
       "6                 50                       2                      2   \n",
       "7                 50                       2                      4   \n",
       "8                 70                       5                      2   \n",
       "9                 50                      10                      2   \n",
       "\n",
       "  param_max_features param_max_depth param_bootstrap  \\\n",
       "0               auto              20           False   \n",
       "1               sqrt              30           False   \n",
       "2               sqrt              30           False   \n",
       "3               sqrt              40           False   \n",
       "4               sqrt              50           False   \n",
       "5               sqrt              40           False   \n",
       "6               sqrt              30           False   \n",
       "7               auto              40           False   \n",
       "8               sqrt              50           False   \n",
       "9               auto              10           False   \n",
       "\n",
       "                                              params  split0_test_score  \\\n",
       "0  {'n_estimators': 70, 'min_samples_split': 2, '...           0.366666   \n",
       "1  {'n_estimators': 50, 'min_samples_split': 2, '...           0.115805   \n",
       "2  {'n_estimators': 50, 'min_samples_split': 2, '...           0.385889   \n",
       "3  {'n_estimators': 50, 'min_samples_split': 2, '...          -0.014562   \n",
       "4  {'n_estimators': 70, 'min_samples_split': 2, '...           0.196272   \n",
       "5  {'n_estimators': 50, 'min_samples_split': 2, '...           0.217551   \n",
       "6  {'n_estimators': 50, 'min_samples_split': 2, '...           0.276805   \n",
       "7  {'n_estimators': 50, 'min_samples_split': 2, '...           0.368998   \n",
       "8  {'n_estimators': 70, 'min_samples_split': 5, '...           0.215797   \n",
       "9  {'n_estimators': 50, 'min_samples_split': 10, ...           0.420374   \n",
       "\n",
       "   split1_test_score  split2_test_score  split3_test_score  split4_test_score  \\\n",
       "0           0.372889           0.376082           0.366803           0.382397   \n",
       "1           0.126783           0.118486           0.122838           0.151097   \n",
       "2           0.391599           0.371865           0.389804           0.387893   \n",
       "3          -0.000398          -0.010167           0.003147           0.015619   \n",
       "4           0.208031           0.186235           0.204377           0.204090   \n",
       "5           0.224480           0.206463           0.224580           0.233588   \n",
       "6           0.279317           0.273817           0.281728           0.290710   \n",
       "7           0.384537           0.362667           0.372417           0.365969   \n",
       "8           0.224782           0.205677           0.221353           0.218898   \n",
       "9           0.432860           0.426460           0.426240           0.432532   \n",
       "\n",
       "   mean_test_score  std_test_score  rank_test_score  \n",
       "0         0.372967        0.005939                3  \n",
       "1         0.127002        0.012616                9  \n",
       "2         0.385410        0.007035                2  \n",
       "3        -0.001272        0.010596               10  \n",
       "4         0.199801        0.007792                8  \n",
       "5         0.221332        0.009012                6  \n",
       "6         0.280476        0.005753                5  \n",
       "7         0.370918        0.007536                4  \n",
       "8         0.217302        0.006516                7  \n",
       "9         0.427693        0.004633                1  "
      ]
     },
     "execution_count": 40,
     "metadata": {},
     "output_type": "execute_result"
    }
   ],
   "source": [
    "print(\"Mejores parametros: \"+str(RFReg.best_params_))\n",
    "print(\"Mejor Score: \"+str(RFReg.best_score_)+'\\n')\n",
    "\n",
    "scores = pd.DataFrame(RFReg.cv_results_)\n",
    "scores"
   ]
  },
  {
   "cell_type": "code",
   "execution_count": 41,
   "metadata": {},
   "outputs": [
    {
     "name": "stdout",
     "output_type": "stream",
     "text": [
      "[0.00844626 0.00177798 0.87384731 0.11592845]\n"
     ]
    }
   ],
   "source": [
    "print(RFReg.best_estimator_.feature_importances_)"
   ]
  },
  {
   "cell_type": "code",
   "execution_count": 42,
   "metadata": {},
   "outputs": [
    {
     "data": {
      "text/html": [
       "<div>\n",
       "<style scoped>\n",
       "    .dataframe tbody tr th:only-of-type {\n",
       "        vertical-align: middle;\n",
       "    }\n",
       "\n",
       "    .dataframe tbody tr th {\n",
       "        vertical-align: top;\n",
       "    }\n",
       "\n",
       "    .dataframe thead th {\n",
       "        text-align: right;\n",
       "    }\n",
       "</style>\n",
       "<table border=\"1\" class=\"dataframe\">\n",
       "  <thead>\n",
       "    <tr style=\"text-align: right;\">\n",
       "      <th></th>\n",
       "      <th>importances_mean</th>\n",
       "      <th>importances_std</th>\n",
       "      <th>feature</th>\n",
       "    </tr>\n",
       "  </thead>\n",
       "  <tbody>\n",
       "    <tr>\n",
       "      <th>1</th>\n",
       "      <td>0.948675</td>\n",
       "      <td>0.146127</td>\n",
       "      <td>sentido</td>\n",
       "    </tr>\n",
       "    <tr>\n",
       "      <th>0</th>\n",
       "      <td>5.071814</td>\n",
       "      <td>0.167975</td>\n",
       "      <td>dia</td>\n",
       "    </tr>\n",
       "    <tr>\n",
       "      <th>3</th>\n",
       "      <td>24.413892</td>\n",
       "      <td>0.212355</td>\n",
       "      <td>fecha</td>\n",
       "    </tr>\n",
       "    <tr>\n",
       "      <th>2</th>\n",
       "      <td>168.221486</td>\n",
       "      <td>0.509617</td>\n",
       "      <td>tipo_vehiculo</td>\n",
       "    </tr>\n",
       "  </tbody>\n",
       "</table>\n",
       "</div>"
      ],
      "text/plain": [
       "   importances_mean  importances_std        feature\n",
       "1          0.948675         0.146127        sentido\n",
       "0          5.071814         0.167975            dia\n",
       "3         24.413892         0.212355          fecha\n",
       "2        168.221486         0.509617  tipo_vehiculo"
      ]
     },
     "execution_count": 42,
     "metadata": {},
     "output_type": "execute_result"
    }
   ],
   "source": [
    "from sklearn.inspection import permutation_importance\n",
    "importancia = permutation_importance(\n",
    "                estimator    = RFReg,\n",
    "                X            = X_train,\n",
    "                y            = y_train,\n",
    "                n_repeats    = 5,\n",
    "                scoring      = 'neg_root_mean_squared_error',\n",
    "                n_jobs       = - 1,\n",
    "                random_state = 123\n",
    "             )\n",
    "\n",
    "# Se almacenan los resultados (media y desviación) en un dataframe\n",
    "df_importancia = pd.DataFrame(\n",
    "                    {k: importancia[k] for k in ['importances_mean', 'importances_std']}\n",
    "                 )\n",
    "df_importancia['feature'] = X_train.columns\n",
    "df_importancia.sort_values('importances_mean', ascending=True)"
   ]
  },
  {
   "cell_type": "markdown",
   "metadata": {},
   "source": [
    "Vemos que tipo_vehiculo y sentido son las variables mas importantes de nuestro modelo"
   ]
  },
  {
   "cell_type": "markdown",
   "metadata": {},
   "source": [
    "Que otras preguntas podemos abordar con nuestro conjunto de datos?bien vamos a explorar mas en profundidad"
   ]
  },
  {
   "cell_type": "code",
   "execution_count": 43,
   "metadata": {},
   "outputs": [],
   "source": [
    "from fbprophet import Prophet"
   ]
  },
  {
   "cell_type": "code",
   "execution_count": 44,
   "metadata": {},
   "outputs": [
    {
     "data": {
      "text/html": [
       "<div>\n",
       "<style scoped>\n",
       "    .dataframe tbody tr th:only-of-type {\n",
       "        vertical-align: middle;\n",
       "    }\n",
       "\n",
       "    .dataframe tbody tr th {\n",
       "        vertical-align: top;\n",
       "    }\n",
       "\n",
       "    .dataframe thead th {\n",
       "        text-align: right;\n",
       "    }\n",
       "</style>\n",
       "<table border=\"1\" class=\"dataframe\">\n",
       "  <thead>\n",
       "    <tr style=\"text-align: right;\">\n",
       "      <th></th>\n",
       "      <th>cantidad_pasos</th>\n",
       "      <th>fecha</th>\n",
       "      <th>index</th>\n",
       "      <th>dia</th>\n",
       "      <th>sentido</th>\n",
       "      <th>tipo_vehiculo</th>\n",
       "    </tr>\n",
       "  </thead>\n",
       "  <tbody>\n",
       "    <tr>\n",
       "      <th>0</th>\n",
       "      <td>1</td>\n",
       "      <td>2017-01-01</td>\n",
       "      <td>0</td>\n",
       "      <td>0</td>\n",
       "      <td>1</td>\n",
       "      <td>1</td>\n",
       "    </tr>\n",
       "    <tr>\n",
       "      <th>1</th>\n",
       "      <td>9</td>\n",
       "      <td>2017-01-01</td>\n",
       "      <td>1</td>\n",
       "      <td>0</td>\n",
       "      <td>1</td>\n",
       "      <td>0</td>\n",
       "    </tr>\n",
       "    <tr>\n",
       "      <th>2</th>\n",
       "      <td>644</td>\n",
       "      <td>2017-01-01</td>\n",
       "      <td>2</td>\n",
       "      <td>0</td>\n",
       "      <td>1</td>\n",
       "      <td>0</td>\n",
       "    </tr>\n",
       "    <tr>\n",
       "      <th>3</th>\n",
       "      <td>6</td>\n",
       "      <td>2017-01-01</td>\n",
       "      <td>3</td>\n",
       "      <td>0</td>\n",
       "      <td>1</td>\n",
       "      <td>1</td>\n",
       "    </tr>\n",
       "    <tr>\n",
       "      <th>4</th>\n",
       "      <td>1</td>\n",
       "      <td>2017-01-01</td>\n",
       "      <td>4</td>\n",
       "      <td>0</td>\n",
       "      <td>1</td>\n",
       "      <td>1</td>\n",
       "    </tr>\n",
       "  </tbody>\n",
       "</table>\n",
       "</div>"
      ],
      "text/plain": [
       "   cantidad_pasos      fecha  index  dia  sentido  tipo_vehiculo\n",
       "0               1 2017-01-01      0    0        1              1\n",
       "1               9 2017-01-01      1    0        1              0\n",
       "2             644 2017-01-01      2    0        1              0\n",
       "3               6 2017-01-01      3    0        1              1\n",
       "4               1 2017-01-01      4    0        1              1"
      ]
     },
     "execution_count": 44,
     "metadata": {},
     "output_type": "execute_result"
    }
   ],
   "source": [
    "dataset.head()"
   ]
  },
  {
   "cell_type": "code",
   "execution_count": 45,
   "metadata": {},
   "outputs": [
    {
     "data": {
      "text/html": [
       "<div>\n",
       "<style scoped>\n",
       "    .dataframe tbody tr th:only-of-type {\n",
       "        vertical-align: middle;\n",
       "    }\n",
       "\n",
       "    .dataframe tbody tr th {\n",
       "        vertical-align: top;\n",
       "    }\n",
       "\n",
       "    .dataframe thead th {\n",
       "        text-align: right;\n",
       "    }\n",
       "</style>\n",
       "<table border=\"1\" class=\"dataframe\">\n",
       "  <thead>\n",
       "    <tr style=\"text-align: right;\">\n",
       "      <th></th>\n",
       "      <th>cantidad_pasos</th>\n",
       "    </tr>\n",
       "    <tr>\n",
       "      <th>fecha</th>\n",
       "      <th></th>\n",
       "    </tr>\n",
       "  </thead>\n",
       "  <tbody>\n",
       "    <tr>\n",
       "      <th>2017-01-01</th>\n",
       "      <td>31183.0</td>\n",
       "    </tr>\n",
       "    <tr>\n",
       "      <th>2017-01-02</th>\n",
       "      <td>51568.0</td>\n",
       "    </tr>\n",
       "    <tr>\n",
       "      <th>2017-01-03</th>\n",
       "      <td>51093.0</td>\n",
       "    </tr>\n",
       "    <tr>\n",
       "      <th>2017-01-04</th>\n",
       "      <td>53332.0</td>\n",
       "    </tr>\n",
       "    <tr>\n",
       "      <th>2017-01-05</th>\n",
       "      <td>56486.0</td>\n",
       "    </tr>\n",
       "  </tbody>\n",
       "</table>\n",
       "</div>"
      ],
      "text/plain": [
       "            cantidad_pasos\n",
       "fecha                     \n",
       "2017-01-01         31183.0\n",
       "2017-01-02         51568.0\n",
       "2017-01-03         51093.0\n",
       "2017-01-04         53332.0\n",
       "2017-01-05         56486.0"
      ]
     },
     "execution_count": 45,
     "metadata": {},
     "output_type": "execute_result"
    }
   ],
   "source": [
    "diario.head()"
   ]
  },
  {
   "cell_type": "code",
   "execution_count": 46,
   "metadata": {},
   "outputs": [
    {
     "data": {
      "text/html": [
       "<div>\n",
       "<style scoped>\n",
       "    .dataframe tbody tr th:only-of-type {\n",
       "        vertical-align: middle;\n",
       "    }\n",
       "\n",
       "    .dataframe tbody tr th {\n",
       "        vertical-align: top;\n",
       "    }\n",
       "\n",
       "    .dataframe thead th {\n",
       "        text-align: right;\n",
       "    }\n",
       "</style>\n",
       "<table border=\"1\" class=\"dataframe\">\n",
       "  <thead>\n",
       "    <tr style=\"text-align: right;\">\n",
       "      <th></th>\n",
       "      <th>fecha</th>\n",
       "      <th>cantidad_pasos</th>\n",
       "    </tr>\n",
       "  </thead>\n",
       "  <tbody>\n",
       "    <tr>\n",
       "      <th>0</th>\n",
       "      <td>2017-01-01</td>\n",
       "      <td>31183.0</td>\n",
       "    </tr>\n",
       "    <tr>\n",
       "      <th>1</th>\n",
       "      <td>2017-01-02</td>\n",
       "      <td>51568.0</td>\n",
       "    </tr>\n",
       "    <tr>\n",
       "      <th>2</th>\n",
       "      <td>2017-01-03</td>\n",
       "      <td>51093.0</td>\n",
       "    </tr>\n",
       "    <tr>\n",
       "      <th>3</th>\n",
       "      <td>2017-01-04</td>\n",
       "      <td>53332.0</td>\n",
       "    </tr>\n",
       "    <tr>\n",
       "      <th>4</th>\n",
       "      <td>2017-01-05</td>\n",
       "      <td>56486.0</td>\n",
       "    </tr>\n",
       "    <tr>\n",
       "      <th>...</th>\n",
       "      <td>...</td>\n",
       "      <td>...</td>\n",
       "    </tr>\n",
       "    <tr>\n",
       "      <th>1090</th>\n",
       "      <td>2019-12-27</td>\n",
       "      <td>40182.0</td>\n",
       "    </tr>\n",
       "    <tr>\n",
       "      <th>1091</th>\n",
       "      <td>2019-12-28</td>\n",
       "      <td>30681.0</td>\n",
       "    </tr>\n",
       "    <tr>\n",
       "      <th>1092</th>\n",
       "      <td>2019-12-29</td>\n",
       "      <td>26259.0</td>\n",
       "    </tr>\n",
       "    <tr>\n",
       "      <th>1093</th>\n",
       "      <td>2019-12-30</td>\n",
       "      <td>34523.0</td>\n",
       "    </tr>\n",
       "    <tr>\n",
       "      <th>1094</th>\n",
       "      <td>2019-12-31</td>\n",
       "      <td>21447.0</td>\n",
       "    </tr>\n",
       "  </tbody>\n",
       "</table>\n",
       "<p>1095 rows × 2 columns</p>\n",
       "</div>"
      ],
      "text/plain": [
       "          fecha  cantidad_pasos\n",
       "0    2017-01-01         31183.0\n",
       "1    2017-01-02         51568.0\n",
       "2    2017-01-03         51093.0\n",
       "3    2017-01-04         53332.0\n",
       "4    2017-01-05         56486.0\n",
       "...         ...             ...\n",
       "1090 2019-12-27         40182.0\n",
       "1091 2019-12-28         30681.0\n",
       "1092 2019-12-29         26259.0\n",
       "1093 2019-12-30         34523.0\n",
       "1094 2019-12-31         21447.0\n",
       "\n",
       "[1095 rows x 2 columns]"
      ]
     },
     "execution_count": 46,
     "metadata": {},
     "output_type": "execute_result"
    }
   ],
   "source": [
    "diario.reset_index(inplace=True,drop=False)\n",
    "diario"
   ]
  },
  {
   "cell_type": "code",
   "execution_count": 47,
   "metadata": {},
   "outputs": [],
   "source": [
    "ds = diario.fecha\n",
    "y = diario.cantidad_pasos\n",
    "dataset2 = pd.concat([ds,y],axis=1)"
   ]
  },
  {
   "cell_type": "code",
   "execution_count": 48,
   "metadata": {},
   "outputs": [],
   "source": [
    "dataset2.rename(columns={'fecha': 'ds', 'cantidad_pasos': 'y'}, inplace=True)"
   ]
  },
  {
   "cell_type": "code",
   "execution_count": 49,
   "metadata": {},
   "outputs": [
    {
     "data": {
      "text/html": [
       "<div>\n",
       "<style scoped>\n",
       "    .dataframe tbody tr th:only-of-type {\n",
       "        vertical-align: middle;\n",
       "    }\n",
       "\n",
       "    .dataframe tbody tr th {\n",
       "        vertical-align: top;\n",
       "    }\n",
       "\n",
       "    .dataframe thead th {\n",
       "        text-align: right;\n",
       "    }\n",
       "</style>\n",
       "<table border=\"1\" class=\"dataframe\">\n",
       "  <thead>\n",
       "    <tr style=\"text-align: right;\">\n",
       "      <th></th>\n",
       "      <th>ds</th>\n",
       "      <th>y</th>\n",
       "    </tr>\n",
       "  </thead>\n",
       "  <tbody>\n",
       "    <tr>\n",
       "      <th>0</th>\n",
       "      <td>2017-01-01</td>\n",
       "      <td>31183.0</td>\n",
       "    </tr>\n",
       "    <tr>\n",
       "      <th>1</th>\n",
       "      <td>2017-01-02</td>\n",
       "      <td>51568.0</td>\n",
       "    </tr>\n",
       "    <tr>\n",
       "      <th>2</th>\n",
       "      <td>2017-01-03</td>\n",
       "      <td>51093.0</td>\n",
       "    </tr>\n",
       "    <tr>\n",
       "      <th>3</th>\n",
       "      <td>2017-01-04</td>\n",
       "      <td>53332.0</td>\n",
       "    </tr>\n",
       "    <tr>\n",
       "      <th>4</th>\n",
       "      <td>2017-01-05</td>\n",
       "      <td>56486.0</td>\n",
       "    </tr>\n",
       "  </tbody>\n",
       "</table>\n",
       "</div>"
      ],
      "text/plain": [
       "          ds        y\n",
       "0 2017-01-01  31183.0\n",
       "1 2017-01-02  51568.0\n",
       "2 2017-01-03  51093.0\n",
       "3 2017-01-04  53332.0\n",
       "4 2017-01-05  56486.0"
      ]
     },
     "execution_count": 49,
     "metadata": {},
     "output_type": "execute_result"
    }
   ],
   "source": [
    "dataset2.head()"
   ]
  },
  {
   "cell_type": "code",
   "execution_count": 50,
   "metadata": {},
   "outputs": [
    {
     "data": {
      "text/plain": [
       "<fbprophet.forecaster.Prophet at 0x2a600a22a90>"
      ]
     },
     "execution_count": 50,
     "metadata": {},
     "output_type": "execute_result"
    }
   ],
   "source": [
    "m = Prophet(weekly_seasonality=True,\n",
    "            daily_seasonality=True)\n",
    "m.fit(dataset2)"
   ]
  },
  {
   "cell_type": "code",
   "execution_count": 51,
   "metadata": {},
   "outputs": [
    {
     "data": {
      "text/html": [
       "<div>\n",
       "<style scoped>\n",
       "    .dataframe tbody tr th:only-of-type {\n",
       "        vertical-align: middle;\n",
       "    }\n",
       "\n",
       "    .dataframe tbody tr th {\n",
       "        vertical-align: top;\n",
       "    }\n",
       "\n",
       "    .dataframe thead th {\n",
       "        text-align: right;\n",
       "    }\n",
       "</style>\n",
       "<table border=\"1\" class=\"dataframe\">\n",
       "  <thead>\n",
       "    <tr style=\"text-align: right;\">\n",
       "      <th></th>\n",
       "      <th>ds</th>\n",
       "    </tr>\n",
       "  </thead>\n",
       "  <tbody>\n",
       "    <tr>\n",
       "      <th>1180</th>\n",
       "      <td>2020-03-26</td>\n",
       "    </tr>\n",
       "    <tr>\n",
       "      <th>1181</th>\n",
       "      <td>2020-03-27</td>\n",
       "    </tr>\n",
       "    <tr>\n",
       "      <th>1182</th>\n",
       "      <td>2020-03-28</td>\n",
       "    </tr>\n",
       "    <tr>\n",
       "      <th>1183</th>\n",
       "      <td>2020-03-29</td>\n",
       "    </tr>\n",
       "    <tr>\n",
       "      <th>1184</th>\n",
       "      <td>2020-03-30</td>\n",
       "    </tr>\n",
       "  </tbody>\n",
       "</table>\n",
       "</div>"
      ],
      "text/plain": [
       "             ds\n",
       "1180 2020-03-26\n",
       "1181 2020-03-27\n",
       "1182 2020-03-28\n",
       "1183 2020-03-29\n",
       "1184 2020-03-30"
      ]
     },
     "execution_count": 51,
     "metadata": {},
     "output_type": "execute_result"
    }
   ],
   "source": [
    "future = m.make_future_dataframe(periods=90)\n",
    "future.tail()"
   ]
  },
  {
   "cell_type": "code",
   "execution_count": 52,
   "metadata": {},
   "outputs": [
    {
     "data": {
      "text/html": [
       "<div>\n",
       "<style scoped>\n",
       "    .dataframe tbody tr th:only-of-type {\n",
       "        vertical-align: middle;\n",
       "    }\n",
       "\n",
       "    .dataframe tbody tr th {\n",
       "        vertical-align: top;\n",
       "    }\n",
       "\n",
       "    .dataframe thead th {\n",
       "        text-align: right;\n",
       "    }\n",
       "</style>\n",
       "<table border=\"1\" class=\"dataframe\">\n",
       "  <thead>\n",
       "    <tr style=\"text-align: right;\">\n",
       "      <th></th>\n",
       "      <th>ds</th>\n",
       "      <th>yhat</th>\n",
       "      <th>yhat_lower</th>\n",
       "      <th>yhat_upper</th>\n",
       "    </tr>\n",
       "  </thead>\n",
       "  <tbody>\n",
       "    <tr>\n",
       "      <th>1180</th>\n",
       "      <td>2020-03-26</td>\n",
       "      <td>40073.640291</td>\n",
       "      <td>34002.022262</td>\n",
       "      <td>46539.047345</td>\n",
       "    </tr>\n",
       "    <tr>\n",
       "      <th>1181</th>\n",
       "      <td>2020-03-27</td>\n",
       "      <td>42010.545998</td>\n",
       "      <td>35632.294941</td>\n",
       "      <td>47698.553090</td>\n",
       "    </tr>\n",
       "    <tr>\n",
       "      <th>1182</th>\n",
       "      <td>2020-03-28</td>\n",
       "      <td>34284.360409</td>\n",
       "      <td>28048.447622</td>\n",
       "      <td>40239.840265</td>\n",
       "    </tr>\n",
       "    <tr>\n",
       "      <th>1183</th>\n",
       "      <td>2020-03-29</td>\n",
       "      <td>29613.683353</td>\n",
       "      <td>23465.838957</td>\n",
       "      <td>35786.110971</td>\n",
       "    </tr>\n",
       "    <tr>\n",
       "      <th>1184</th>\n",
       "      <td>2020-03-30</td>\n",
       "      <td>35492.473415</td>\n",
       "      <td>29347.981608</td>\n",
       "      <td>41693.048298</td>\n",
       "    </tr>\n",
       "  </tbody>\n",
       "</table>\n",
       "</div>"
      ],
      "text/plain": [
       "             ds          yhat    yhat_lower    yhat_upper\n",
       "1180 2020-03-26  40073.640291  34002.022262  46539.047345\n",
       "1181 2020-03-27  42010.545998  35632.294941  47698.553090\n",
       "1182 2020-03-28  34284.360409  28048.447622  40239.840265\n",
       "1183 2020-03-29  29613.683353  23465.838957  35786.110971\n",
       "1184 2020-03-30  35492.473415  29347.981608  41693.048298"
      ]
     },
     "execution_count": 52,
     "metadata": {},
     "output_type": "execute_result"
    }
   ],
   "source": [
    "forecast = m.predict(future)\n",
    "forecast[['ds', 'yhat', 'yhat_lower', 'yhat_upper']].tail()"
   ]
  },
  {
   "cell_type": "code",
   "execution_count": 53,
   "metadata": {},
   "outputs": [
    {
     "data": {
      "image/png": "[encoded data removed]",
      "text/plain": [
       "<Figure size 720x432 with 1 Axes>"
      ]
     },
     "metadata": {},
     "output_type": "display_data"
    }
   ],
   "source": [
    "fig1 = m.plot(forecast)\n"
   ]
  },
  {
   "cell_type": "markdown",
   "metadata": {},
   "source": [
    "Vemos el factor de estacionalidad que toma este modelo, lo cual hace que tenga una mejor prediccion que los modelos benchmark."
   ]
  },
  {
   "cell_type": "code",
   "execution_count": 54,
   "metadata": {},
   "outputs": [
    {
     "data": {
      "image/png": "[encoded data removed]",
      "text/plain": [
       "<Figure size 648x864 with 4 Axes>"
      ]
     },
     "metadata": {},
     "output_type": "display_data"
    }
   ],
   "source": [
    "fig2 = m.plot_components(forecast)"
   ]
  },
  {
   "cell_type": "code",
   "execution_count": 55,
   "metadata": {},
   "outputs": [
    {
     "data": {
      "text/html": [
       "<div>\n",
       "<style scoped>\n",
       "    .dataframe tbody tr th:only-of-type {\n",
       "        vertical-align: middle;\n",
       "    }\n",
       "\n",
       "    .dataframe tbody tr th {\n",
       "        vertical-align: top;\n",
       "    }\n",
       "\n",
       "    .dataframe thead th {\n",
       "        text-align: right;\n",
       "    }\n",
       "</style>\n",
       "<table border=\"1\" class=\"dataframe\">\n",
       "  <thead>\n",
       "    <tr style=\"text-align: right;\">\n",
       "      <th></th>\n",
       "      <th>ds</th>\n",
       "      <th>trend</th>\n",
       "      <th>yhat_lower</th>\n",
       "      <th>yhat_upper</th>\n",
       "      <th>trend_lower</th>\n",
       "      <th>trend_upper</th>\n",
       "      <th>additive_terms</th>\n",
       "      <th>additive_terms_lower</th>\n",
       "      <th>additive_terms_upper</th>\n",
       "      <th>daily</th>\n",
       "      <th>...</th>\n",
       "      <th>weekly</th>\n",
       "      <th>weekly_lower</th>\n",
       "      <th>weekly_upper</th>\n",
       "      <th>yearly</th>\n",
       "      <th>yearly_lower</th>\n",
       "      <th>yearly_upper</th>\n",
       "      <th>multiplicative_terms</th>\n",
       "      <th>multiplicative_terms_lower</th>\n",
       "      <th>multiplicative_terms_upper</th>\n",
       "      <th>yhat</th>\n",
       "    </tr>\n",
       "  </thead>\n",
       "  <tbody>\n",
       "    <tr>\n",
       "      <th>0</th>\n",
       "      <td>2017-01-01</td>\n",
       "      <td>34786.920702</td>\n",
       "      <td>32169.497540</td>\n",
       "      <td>44715.614921</td>\n",
       "      <td>34786.920702</td>\n",
       "      <td>34786.920702</td>\n",
       "      <td>4059.820401</td>\n",
       "      <td>4059.820401</td>\n",
       "      <td>4059.820401</td>\n",
       "      <td>14480.710055</td>\n",
       "      <td>...</td>\n",
       "      <td>-7022.059474</td>\n",
       "      <td>-7022.059474</td>\n",
       "      <td>-7022.059474</td>\n",
       "      <td>-3398.830180</td>\n",
       "      <td>-3398.830180</td>\n",
       "      <td>-3398.830180</td>\n",
       "      <td>0.0</td>\n",
       "      <td>0.0</td>\n",
       "      <td>0.0</td>\n",
       "      <td>38846.741103</td>\n",
       "    </tr>\n",
       "    <tr>\n",
       "      <th>1</th>\n",
       "      <td>2017-01-02</td>\n",
       "      <td>34782.611189</td>\n",
       "      <td>38728.934897</td>\n",
       "      <td>50749.907165</td>\n",
       "      <td>34782.611189</td>\n",
       "      <td>34782.611189</td>\n",
       "      <td>9890.869873</td>\n",
       "      <td>9890.869873</td>\n",
       "      <td>9890.869873</td>\n",
       "      <td>14480.710055</td>\n",
       "      <td>...</td>\n",
       "      <td>-1063.413385</td>\n",
       "      <td>-1063.413385</td>\n",
       "      <td>-1063.413385</td>\n",
       "      <td>-3526.426797</td>\n",
       "      <td>-3526.426797</td>\n",
       "      <td>-3526.426797</td>\n",
       "      <td>0.0</td>\n",
       "      <td>0.0</td>\n",
       "      <td>0.0</td>\n",
       "      <td>44673.481062</td>\n",
       "    </tr>\n",
       "    <tr>\n",
       "      <th>2</th>\n",
       "      <td>2017-01-03</td>\n",
       "      <td>34778.301676</td>\n",
       "      <td>39461.815404</td>\n",
       "      <td>52066.163116</td>\n",
       "      <td>34778.301676</td>\n",
       "      <td>34778.301676</td>\n",
       "      <td>10949.016145</td>\n",
       "      <td>10949.016145</td>\n",
       "      <td>10949.016145</td>\n",
       "      <td>14480.710055</td>\n",
       "      <td>...</td>\n",
       "      <td>80.221656</td>\n",
       "      <td>80.221656</td>\n",
       "      <td>80.221656</td>\n",
       "      <td>-3611.915566</td>\n",
       "      <td>-3611.915566</td>\n",
       "      <td>-3611.915566</td>\n",
       "      <td>0.0</td>\n",
       "      <td>0.0</td>\n",
       "      <td>0.0</td>\n",
       "      <td>45727.317821</td>\n",
       "    </tr>\n",
       "    <tr>\n",
       "      <th>3</th>\n",
       "      <td>2017-01-04</td>\n",
       "      <td>34773.992163</td>\n",
       "      <td>41357.300540</td>\n",
       "      <td>53530.908053</td>\n",
       "      <td>34773.992163</td>\n",
       "      <td>34773.992163</td>\n",
       "      <td>12813.878457</td>\n",
       "      <td>12813.878457</td>\n",
       "      <td>12813.878457</td>\n",
       "      <td>14480.710055</td>\n",
       "      <td>...</td>\n",
       "      <td>1988.298592</td>\n",
       "      <td>1988.298592</td>\n",
       "      <td>1988.298592</td>\n",
       "      <td>-3655.130189</td>\n",
       "      <td>-3655.130189</td>\n",
       "      <td>-3655.130189</td>\n",
       "      <td>0.0</td>\n",
       "      <td>0.0</td>\n",
       "      <td>0.0</td>\n",
       "      <td>47587.870621</td>\n",
       "    </tr>\n",
       "    <tr>\n",
       "      <th>4</th>\n",
       "      <td>2017-01-05</td>\n",
       "      <td>34769.682651</td>\n",
       "      <td>42413.083495</td>\n",
       "      <td>54405.235076</td>\n",
       "      <td>34769.682651</td>\n",
       "      <td>34769.682651</td>\n",
       "      <td>14043.910035</td>\n",
       "      <td>14043.910035</td>\n",
       "      <td>14043.910035</td>\n",
       "      <td>14480.710055</td>\n",
       "      <td>...</td>\n",
       "      <td>3219.834713</td>\n",
       "      <td>3219.834713</td>\n",
       "      <td>3219.834713</td>\n",
       "      <td>-3656.634733</td>\n",
       "      <td>-3656.634733</td>\n",
       "      <td>-3656.634733</td>\n",
       "      <td>0.0</td>\n",
       "      <td>0.0</td>\n",
       "      <td>0.0</td>\n",
       "      <td>48813.592685</td>\n",
       "    </tr>\n",
       "  </tbody>\n",
       "</table>\n",
       "<p>5 rows × 22 columns</p>\n",
       "</div>"
      ],
      "text/plain": [
       "          ds         trend    yhat_lower    yhat_upper   trend_lower  \\\n",
       "0 2017-01-01  34786.920702  32169.497540  44715.614921  34786.920702   \n",
       "1 2017-01-02  34782.611189  38728.934897  50749.907165  34782.611189   \n",
       "2 2017-01-03  34778.301676  39461.815404  52066.163116  34778.301676   \n",
       "3 2017-01-04  34773.992163  41357.300540  53530.908053  34773.992163   \n",
       "4 2017-01-05  34769.682651  42413.083495  54405.235076  34769.682651   \n",
       "\n",
       "    trend_upper  additive_terms  additive_terms_lower  additive_terms_upper  \\\n",
       "0  34786.920702     4059.820401           4059.820401           4059.820401   \n",
       "1  34782.611189     9890.869873           9890.869873           9890.869873   \n",
       "2  34778.301676    10949.016145          10949.016145          10949.016145   \n",
       "3  34773.992163    12813.878457          12813.878457          12813.878457   \n",
       "4  34769.682651    14043.910035          14043.910035          14043.910035   \n",
       "\n",
       "          daily  ...       weekly  weekly_lower  weekly_upper       yearly  \\\n",
       "0  14480.710055  ... -7022.059474  -7022.059474  -7022.059474 -3398.830180   \n",
       "1  14480.710055  ... -1063.413385  -1063.413385  -1063.413385 -3526.426797   \n",
       "2  14480.710055  ...    80.221656     80.221656     80.221656 -3611.915566   \n",
       "3  14480.710055  ...  1988.298592   1988.298592   1988.298592 -3655.130189   \n",
       "4  14480.710055  ...  3219.834713   3219.834713   3219.834713 -3656.634733   \n",
       "\n",
       "   yearly_lower  yearly_upper  multiplicative_terms  \\\n",
       "0  -3398.830180  -3398.830180                   0.0   \n",
       "1  -3526.426797  -3526.426797                   0.0   \n",
       "2  -3611.915566  -3611.915566                   0.0   \n",
       "3  -3655.130189  -3655.130189                   0.0   \n",
       "4  -3656.634733  -3656.634733                   0.0   \n",
       "\n",
       "   multiplicative_terms_lower  multiplicative_terms_upper          yhat  \n",
       "0                         0.0                         0.0  38846.741103  \n",
       "1                         0.0                         0.0  44673.481062  \n",
       "2                         0.0                         0.0  45727.317821  \n",
       "3                         0.0                         0.0  47587.870621  \n",
       "4                         0.0                         0.0  48813.592685  \n",
       "\n",
       "[5 rows x 22 columns]"
      ]
     },
     "execution_count": 55,
     "metadata": {},
     "output_type": "execute_result"
    }
   ],
   "source": [
    "forecast.head()"
   ]
  },
  {
   "cell_type": "code",
   "execution_count": 56,
   "metadata": {},
   "outputs": [
    {
     "data": {
      "text/html": [
       "<div>\n",
       "<style scoped>\n",
       "    .dataframe tbody tr th:only-of-type {\n",
       "        vertical-align: middle;\n",
       "    }\n",
       "\n",
       "    .dataframe tbody tr th {\n",
       "        vertical-align: top;\n",
       "    }\n",
       "\n",
       "    .dataframe thead th {\n",
       "        text-align: right;\n",
       "    }\n",
       "</style>\n",
       "<table border=\"1\" class=\"dataframe\">\n",
       "  <thead>\n",
       "    <tr style=\"text-align: right;\">\n",
       "      <th></th>\n",
       "      <th>ds</th>\n",
       "      <th>y</th>\n",
       "    </tr>\n",
       "  </thead>\n",
       "  <tbody>\n",
       "    <tr>\n",
       "      <th>0</th>\n",
       "      <td>2017-01-01</td>\n",
       "      <td>31183.0</td>\n",
       "    </tr>\n",
       "    <tr>\n",
       "      <th>1</th>\n",
       "      <td>2017-01-02</td>\n",
       "      <td>51568.0</td>\n",
       "    </tr>\n",
       "    <tr>\n",
       "      <th>2</th>\n",
       "      <td>2017-01-03</td>\n",
       "      <td>51093.0</td>\n",
       "    </tr>\n",
       "    <tr>\n",
       "      <th>3</th>\n",
       "      <td>2017-01-04</td>\n",
       "      <td>53332.0</td>\n",
       "    </tr>\n",
       "    <tr>\n",
       "      <th>4</th>\n",
       "      <td>2017-01-05</td>\n",
       "      <td>56486.0</td>\n",
       "    </tr>\n",
       "    <tr>\n",
       "      <th>...</th>\n",
       "      <td>...</td>\n",
       "      <td>...</td>\n",
       "    </tr>\n",
       "    <tr>\n",
       "      <th>615</th>\n",
       "      <td>2018-09-08</td>\n",
       "      <td>42370.0</td>\n",
       "    </tr>\n",
       "    <tr>\n",
       "      <th>616</th>\n",
       "      <td>2018-09-09</td>\n",
       "      <td>35522.0</td>\n",
       "    </tr>\n",
       "    <tr>\n",
       "      <th>617</th>\n",
       "      <td>2018-09-10</td>\n",
       "      <td>41239.0</td>\n",
       "    </tr>\n",
       "    <tr>\n",
       "      <th>618</th>\n",
       "      <td>2018-09-11</td>\n",
       "      <td>43451.0</td>\n",
       "    </tr>\n",
       "    <tr>\n",
       "      <th>619</th>\n",
       "      <td>2018-09-12</td>\n",
       "      <td>37713.0</td>\n",
       "    </tr>\n",
       "  </tbody>\n",
       "</table>\n",
       "<p>620 rows × 2 columns</p>\n",
       "</div>"
      ],
      "text/plain": [
       "            ds        y\n",
       "0   2017-01-01  31183.0\n",
       "1   2017-01-02  51568.0\n",
       "2   2017-01-03  51093.0\n",
       "3   2017-01-04  53332.0\n",
       "4   2017-01-05  56486.0\n",
       "..         ...      ...\n",
       "615 2018-09-08  42370.0\n",
       "616 2018-09-09  35522.0\n",
       "617 2018-09-10  41239.0\n",
       "618 2018-09-11  43451.0\n",
       "619 2018-09-12  37713.0\n",
       "\n",
       "[620 rows x 2 columns]"
      ]
     },
     "execution_count": 56,
     "metadata": {},
     "output_type": "execute_result"
    }
   ],
   "source": [
    "split_date_2 = '2018-09-12'\n",
    "dataset2 = dataset2.loc[dataset2.ds <= split_date_2].copy()\n",
    "dataset2"
   ]
  },
  {
   "cell_type": "code",
   "execution_count": 57,
   "metadata": {},
   "outputs": [
    {
     "data": {
      "text/html": [
       "<div>\n",
       "<style scoped>\n",
       "    .dataframe tbody tr th:only-of-type {\n",
       "        vertical-align: middle;\n",
       "    }\n",
       "\n",
       "    .dataframe tbody tr th {\n",
       "        vertical-align: top;\n",
       "    }\n",
       "\n",
       "    .dataframe thead th {\n",
       "        text-align: right;\n",
       "    }\n",
       "</style>\n",
       "<table border=\"1\" class=\"dataframe\">\n",
       "  <thead>\n",
       "    <tr style=\"text-align: right;\">\n",
       "      <th></th>\n",
       "      <th>ds</th>\n",
       "      <th>yhat</th>\n",
       "    </tr>\n",
       "  </thead>\n",
       "  <tbody>\n",
       "    <tr>\n",
       "      <th>0</th>\n",
       "      <td>2017-01-01</td>\n",
       "      <td>38846.741103</td>\n",
       "    </tr>\n",
       "    <tr>\n",
       "      <th>1</th>\n",
       "      <td>2017-01-02</td>\n",
       "      <td>44673.481062</td>\n",
       "    </tr>\n",
       "    <tr>\n",
       "      <th>2</th>\n",
       "      <td>2017-01-03</td>\n",
       "      <td>45727.317821</td>\n",
       "    </tr>\n",
       "    <tr>\n",
       "      <th>3</th>\n",
       "      <td>2017-01-04</td>\n",
       "      <td>47587.870621</td>\n",
       "    </tr>\n",
       "    <tr>\n",
       "      <th>4</th>\n",
       "      <td>2017-01-05</td>\n",
       "      <td>48813.592685</td>\n",
       "    </tr>\n",
       "    <tr>\n",
       "      <th>...</th>\n",
       "      <td>...</td>\n",
       "      <td>...</td>\n",
       "    </tr>\n",
       "    <tr>\n",
       "      <th>614</th>\n",
       "      <td>2018-09-07</td>\n",
       "      <td>47773.887014</td>\n",
       "    </tr>\n",
       "    <tr>\n",
       "      <th>615</th>\n",
       "      <td>2018-09-08</td>\n",
       "      <td>40173.515254</td>\n",
       "    </tr>\n",
       "    <tr>\n",
       "      <th>616</th>\n",
       "      <td>2018-09-09</td>\n",
       "      <td>35638.529753</td>\n",
       "    </tr>\n",
       "    <tr>\n",
       "      <th>617</th>\n",
       "      <td>2018-09-10</td>\n",
       "      <td>41661.196877</td>\n",
       "    </tr>\n",
       "    <tr>\n",
       "      <th>618</th>\n",
       "      <td>2018-09-11</td>\n",
       "      <td>42872.630493</td>\n",
       "    </tr>\n",
       "  </tbody>\n",
       "</table>\n",
       "<p>619 rows × 2 columns</p>\n",
       "</div>"
      ],
      "text/plain": [
       "            ds          yhat\n",
       "0   2017-01-01  38846.741103\n",
       "1   2017-01-02  44673.481062\n",
       "2   2017-01-03  45727.317821\n",
       "3   2017-01-04  47587.870621\n",
       "4   2017-01-05  48813.592685\n",
       "..         ...           ...\n",
       "614 2018-09-07  47773.887014\n",
       "615 2018-09-08  40173.515254\n",
       "616 2018-09-09  35638.529753\n",
       "617 2018-09-10  41661.196877\n",
       "618 2018-09-11  42872.630493\n",
       "\n",
       "[619 rows x 2 columns]"
      ]
     },
     "execution_count": 57,
     "metadata": {},
     "output_type": "execute_result"
    }
   ],
   "source": [
    "y_pred = forecast[['ds', 'yhat']].loc[forecast.ds < split_date_2]\n",
    "y_pred"
   ]
  },
  {
   "cell_type": "code",
   "execution_count": 58,
   "metadata": {},
   "outputs": [
    {
     "data": {
      "text/html": [
       "<div>\n",
       "<style scoped>\n",
       "    .dataframe tbody tr th:only-of-type {\n",
       "        vertical-align: middle;\n",
       "    }\n",
       "\n",
       "    .dataframe tbody tr th {\n",
       "        vertical-align: top;\n",
       "    }\n",
       "\n",
       "    .dataframe thead th {\n",
       "        text-align: right;\n",
       "    }\n",
       "</style>\n",
       "<table border=\"1\" class=\"dataframe\">\n",
       "  <thead>\n",
       "    <tr style=\"text-align: right;\">\n",
       "      <th></th>\n",
       "      <th>ds</th>\n",
       "      <th>y</th>\n",
       "    </tr>\n",
       "  </thead>\n",
       "  <tbody>\n",
       "    <tr>\n",
       "      <th>0</th>\n",
       "      <td>2017-01-01</td>\n",
       "      <td>31183.0</td>\n",
       "    </tr>\n",
       "    <tr>\n",
       "      <th>1</th>\n",
       "      <td>2017-01-02</td>\n",
       "      <td>51568.0</td>\n",
       "    </tr>\n",
       "    <tr>\n",
       "      <th>2</th>\n",
       "      <td>2017-01-03</td>\n",
       "      <td>51093.0</td>\n",
       "    </tr>\n",
       "    <tr>\n",
       "      <th>3</th>\n",
       "      <td>2017-01-04</td>\n",
       "      <td>53332.0</td>\n",
       "    </tr>\n",
       "    <tr>\n",
       "      <th>4</th>\n",
       "      <td>2017-01-05</td>\n",
       "      <td>56486.0</td>\n",
       "    </tr>\n",
       "    <tr>\n",
       "      <th>...</th>\n",
       "      <td>...</td>\n",
       "      <td>...</td>\n",
       "    </tr>\n",
       "    <tr>\n",
       "      <th>614</th>\n",
       "      <td>2018-09-07</td>\n",
       "      <td>48600.0</td>\n",
       "    </tr>\n",
       "    <tr>\n",
       "      <th>615</th>\n",
       "      <td>2018-09-08</td>\n",
       "      <td>42370.0</td>\n",
       "    </tr>\n",
       "    <tr>\n",
       "      <th>616</th>\n",
       "      <td>2018-09-09</td>\n",
       "      <td>35522.0</td>\n",
       "    </tr>\n",
       "    <tr>\n",
       "      <th>617</th>\n",
       "      <td>2018-09-10</td>\n",
       "      <td>41239.0</td>\n",
       "    </tr>\n",
       "    <tr>\n",
       "      <th>618</th>\n",
       "      <td>2018-09-11</td>\n",
       "      <td>43451.0</td>\n",
       "    </tr>\n",
       "  </tbody>\n",
       "</table>\n",
       "<p>619 rows × 2 columns</p>\n",
       "</div>"
      ],
      "text/plain": [
       "            ds        y\n",
       "0   2017-01-01  31183.0\n",
       "1   2017-01-02  51568.0\n",
       "2   2017-01-03  51093.0\n",
       "3   2017-01-04  53332.0\n",
       "4   2017-01-05  56486.0\n",
       "..         ...      ...\n",
       "614 2018-09-07  48600.0\n",
       "615 2018-09-08  42370.0\n",
       "616 2018-09-09  35522.0\n",
       "617 2018-09-10  41239.0\n",
       "618 2018-09-11  43451.0\n",
       "\n",
       "[619 rows x 2 columns]"
      ]
     },
     "execution_count": 58,
     "metadata": {},
     "output_type": "execute_result"
    }
   ],
   "source": [
    "y_true = dataset2[['ds', 'y']].loc[dataset2.ds < split_date_2]\n",
    "y_true"
   ]
  },
  {
   "cell_type": "code",
   "execution_count": 59,
   "metadata": {},
   "outputs": [
    {
     "name": "stdout",
     "output_type": "stream",
     "text": [
      "MAE: 3238.094\n"
     ]
    }
   ],
   "source": [
    "from sklearn.metrics import mean_absolute_error\n",
    "y_true = y_true['y']\n",
    "y_pred = y_pred['yhat']\n",
    "mae = mean_absolute_error(y_true, y_pred)\n",
    "print('MAE: %.3f' % mae)"
   ]
  },
  {
   "cell_type": "code",
   "execution_count": 60,
   "metadata": {},
   "outputs": [
    {
     "name": "stdout",
     "output_type": "stream",
     "text": [
      "Raiz del error cuadratico medio: \n"
     ]
    },
    {
     "data": {
      "text/plain": [
       "56.904251705235545"
      ]
     },
     "execution_count": 60,
     "metadata": {},
     "output_type": "execute_result"
    }
   ],
   "source": [
    "print('Raiz del error cuadratico medio: ')\n",
    "np.sqrt(mae)"
   ]
  },
  {
   "cell_type": "markdown",
   "metadata": {},
   "source": [
    "Vemos que con prophet mejora considerablemente , disminuye el error en test, podemos concluir que para este problema , es mejor abordarlo con prophet a partir de una serie de tiempo porque se le hace otro tratamiento a los valores atipicos con interpolacion, y porque entiende de la estacionalidad como el factor importante para predecir, y previsibilizar un forecast del trafico mas acertivo."
   ]
  },
  {
   "cell_type": "markdown",
   "metadata": {},
   "source": [
    "Que otras preguntas podriamos abordar con este conjunto de datos? Podriamos analizar los horarios para viajar y en que horarios serian los mas adecuados para evitar trafico a partir de un modelo y poder predecir la demanda en tal horario de la proxima semana, para ofrecer alternativas o incentivar el telepase"
   ]
  },
  {
   "cell_type": "markdown",
   "metadata": {},
   "source": [
    "Como objetivo principal de este proyecto quiero poder predecir el flujo de automoviles para poder reducir el trafico, brindar esta informacion a los conductores con el fin de disminuir la demanda de vehiculos en el mismo horario y estacion.\n"
   ]
  },
  {
   "cell_type": "code",
   "execution_count": null,
   "metadata": {},
   "outputs": [],
   "source": []
  }
 ],
 "metadata": {
  "kernelspec": {
   "display_name": "Python 3",
   "language": "python",
   "name": "python3"
  },
  "language_info": {
   "codemirror_mode": {
    "name": "ipython",
    "version": 3
   },
   "file_extension": ".py",
   "mimetype": "text/x-python",
   "name": "python",
   "nbconvert_exporter": "python",
   "pygments_lexer": "ipython3",
   "version": "3.8.5"
  }
 },
 "nbformat": 4,
 "nbformat_minor": 5
}
